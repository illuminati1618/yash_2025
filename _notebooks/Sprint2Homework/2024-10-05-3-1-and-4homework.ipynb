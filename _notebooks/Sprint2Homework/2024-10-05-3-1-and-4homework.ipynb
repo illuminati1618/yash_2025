{
 "cells": [
  {
   "cell_type": "raw",
   "metadata": {
    "vscode": {
     "languageId": "raw"
    }
   },
   "source": [
    "---\n",
    "toc: false\n",
    "layout: post\n",
    "type: tangibles\n",
    "courses: { compsci: {week: 1} }\n",
    "title: 3.1 Popcorn and Homework Hacks\n",
    "description: Yash's Submission for 3.1 Homework\n",
    "comments: true\n",
    "---"
   ]
  },
  {
   "cell_type": "markdown",
   "metadata": {},
   "source": [
    "## Variables"
   ]
  },
  {
   "cell_type": "markdown",
   "metadata": {},
   "source": [
    "### Popcorn Hack #1"
   ]
  },
  {
   "cell_type": "code",
   "execution_count": null,
   "metadata": {
    "vscode": {
     "languageId": "javascript"
    }
   },
   "outputs": [],
   "source": [
    "%%js\n",
    "\n",
    "//ADDED MY OWN FRUITS\n",
    "\n",
    "var myDictionary = {\n",
    "    1: \"apple\",\n",
    "    2: \"banana\",\n",
    "    3: \"orange\"\n",
    "};\n",
    "\n",
    "// Accessing a value\n",
    "console.log(\"Fruit with key 2:\", myDictionary[2]); // Output: fruit"
   ]
  },
  {
   "cell_type": "markdown",
   "metadata": {},
   "source": [
    "### Popcorn Hack 2"
   ]
  },
  {
   "cell_type": "code",
   "execution_count": 3,
   "metadata": {},
   "outputs": [
    {
     "name": "stdout",
     "output_type": "stream",
     "text": [
      "Welcome to the Math Quiz Game!\n",
      "Answer as many questions as you can. Type 'q' to quit anytime.\n",
      "\n",
      "What is 3 * 18?\n",
      "Oops! The correct answer was 54.\n",
      "What is 4 / 3?\n",
      "Invalid input, please enter a number or 'q' to quit.\n",
      "What is 5 + 8?\n",
      "Invalid input, please enter a number or 'q' to quit.\n",
      "What is 18 / 18?\n",
      "Invalid input, please enter a number or 'q' to quit.\n",
      "What is 20 - 16?\n",
      "Invalid input, please enter a number or 'q' to quit.\n",
      "What is 16 / 18?\n",
      "Invalid input, please enter a number or 'q' to quit.\n",
      "What is 13 + 1?\n",
      "Thanks for playing! Your final score is 0.\n"
     ]
    }
   ],
   "source": [
    "import random\n",
    "\n",
    "def play_game():\n",
    "    score = 0\n",
    "    operators = ['+', '-', '*', '/']\n",
    "\n",
    "    print(\"Welcome to the Math Quiz Game!\")\n",
    "    print(\"Answer as many questions as you can. Type 'q' to quit anytime.\\n\")\n",
    "\n",
    "    while True:\n",
    "        # Generate two random numbers and choose a random operator\n",
    "        num1 = random.randint(1, 20)\n",
    "        num2 = random.randint(1, 20)\n",
    "        op = random.choice(operators)\n",
    "\n",
    "        # Calculate the correct answer based on the operator\n",
    "        if op == '+':\n",
    "            answer = num1 + num2\n",
    "        elif op == '-':\n",
    "            answer = num1 - num2\n",
    "        elif op == '/':\n",
    "            answer = num1 / num2\n",
    "        else:\n",
    "            answer = num1 * num2\n",
    "\n",
    "        # Ask the player the question\n",
    "        print(f\"What is {num1} {op} {num2}?\")\n",
    "        player_input = input(\"Your answer (or type 'q' to quit): \")\n",
    "\n",
    "        # Check if the player wants to quit\n",
    "        if player_input.lower() == 'q':\n",
    "            break\n",
    "\n",
    "        # Check if the answer is correct\n",
    "        try:\n",
    "            player_answer = int(player_input)\n",
    "            if player_answer == answer:\n",
    "                print(\"Correct!\")\n",
    "                score += 1\n",
    "            else:\n",
    "                print(f\"Oops! The correct answer was {answer}.\")\n",
    "        except ValueError:\n",
    "            print(\"Invalid input, please enter a number or 'q' to quit.\")\n",
    "\n",
    "    print(f\"Thanks for playing! Your final score is {score}.\")\n",
    "\n",
    "# Start the game\n",
    "play_game()"
   ]
  },
  {
   "cell_type": "markdown",
   "metadata": {},
   "source": [
    "### Popcorn Hack 3"
   ]
  },
  {
   "cell_type": "code",
   "execution_count": 26,
   "metadata": {},
   "outputs": [
    {
     "name": "stdout",
     "output_type": "stream",
     "text": [
      "55.0°C is equal to 131.00°F\n"
     ]
    }
   ],
   "source": [
    "def temperature_converter():\n",
    "    try:\n",
    "        temperature = float(input(\"Enter the temperature: \"))\n",
    "        \n",
    "        conversion_type = input(\"Convert to Celsius or Fahrenheit? [C/F]\").strip().upper()\n",
    "\n",
    "        if conversion_type == \"C\":\n",
    "            pass\n",
    "            celsius = (temperature - 32) * (5 / 9)\n",
    "            print(f\"{temperature}°F is equal to {celsius:.2f}°C\")\n",
    "\n",
    "        elif conversion_type == \"F\":\n",
    "            fahrenheit = (temperature * (9 / 5)) + 32\n",
    "            print(f\"{temperature}°C is equal to {fahrenheit:.2f}°F\")\n",
    "\n",
    "        else:\n",
    "            print(\"Invalid conversion type entered. Please enter 'C' or 'F'.\")\n",
    "\n",
    "    except ValueError:\n",
    "        print(\"Invalid input. Please enter a numeric temperature value.\")\n",
    "\n",
    "temperature_converter()"
   ]
  },
  {
   "cell_type": "markdown",
   "metadata": {},
   "source": [
    "### Python Homework Hack"
   ]
  },
  {
   "cell_type": "code",
   "execution_count": 28,
   "metadata": {},
   "outputs": [
    {
     "name": "stdout",
     "output_type": "stream",
     "text": [
      "\n",
      "Your shopping list:\n",
      "Taco Shells - $5.00\n",
      "Black Beans - $3.00\n",
      "Salsa - $7.00\n",
      "Lettuce - $5.00\n",
      "Cheese - $10.00\n",
      "\n",
      "Total cost: $30.00\n"
     ]
    }
   ],
   "source": [
    "shopping_list = []\n",
    "total_cost = 0.0\n",
    "\n",
    "while True:\n",
    "    item_name = input(\"Enter the item name (or 'done' to finish): \")\n",
    "    if item_name.lower() == 'done':\n",
    "        break\n",
    "    item_price = float(input(\"Enter the price of the item: \"))\n",
    "\n",
    "    shopping_list.append((item_name, item_price))\n",
    "    total_cost += item_price\n",
    "\n",
    "print(\"\\nYour shopping list:\")\n",
    "for item in shopping_list:\n",
    "    print(f\"{item[0]} - ${item[1]:.2f}\")\n",
    "\n",
    "print(f\"\\nTotal cost: ${total_cost:.2f}\")"
   ]
  },
  {
   "cell_type": "code",
   "execution_count": 1,
   "metadata": {
    "vscode": {
     "languageId": "javascript"
    }
   },
   "outputs": [
    {
     "data": {
      "application/javascript": "\n// THIS TOOK ME A WHILE TO FIGURE OUT\n\nconst cupToTablespoon = 16;\nconst cupToTeaspoon = 48;\nconst tablespoonToTeaspoon = 3;\n\nlet ingredients = [];\nlet result = '';\n\nwhile (true) {\n    let ingredientName = prompt(\"Enter the ingredient name (or 'done' to finish): \");\n    if (ingredientName === 'done') {\n        break;\n    }\n\n    let quantity = parseFloat(prompt(`Enter the quantity for ${ingredientName}: `));\n    let currentUnit = prompt(\"Enter the current unit (cup, tablespoon, teaspoon): \")\n    let targetUnit = prompt(\"Enter the unit to convert to (cup, tablespoon, teaspoon): \")\n\n    let convertedQuantity;\n\n    if (currentUnit === \"cup\" && targetUnit === \"tablespoon\") {\n        convertedQuantity = quantity * cupToTablespoon;\n    } else if (currentUnit === \"cup\" && targetUnit === \"teaspoon\") {\n        convertedQuantity = quantity * cupToTeaspoon;\n    } else if (currentUnit === \"tablespoon\" && targetUnit === \"cup\") {\n        convertedQuantity = quantity / cupToTablespoon;\n    } else if (currentUnit === \"tablespoon\" && targetUnit === \"teaspoon\") {\n        convertedQuantity = quantity * tablespoonToTeaspoon;\n    } else if (currentUnit === \"teaspoon\" && targetUnit === \"cup\") {\n        convertedQuantity = quantity / cupToTeaspoon;\n    } else if (currentUnit === \"teaspoon\" && targetUnit === \"tablespoon\") {\n        convertedQuantity = quantity / tablespoonToTeaspoon;\n    }\n\n    result += `${quantity} ${currentUnit} of ${ingredientName} is equal to ${convertedQuantity} ${targetUnit}.\\n`;\n}\n\nconsole.log(result);\n",
      "text/plain": [
       "<IPython.core.display.Javascript object>"
      ]
     },
     "metadata": {},
     "output_type": "display_data"
    }
   ],
   "source": [
    "%%js\n",
    "\n",
    "// THIS TOOK ME A WHILE TO FIGURE OUT\n",
    "\n",
    "const cupToTablespoon = 16;\n",
    "const cupToTeaspoon = 48;\n",
    "const tablespoonToTeaspoon = 3;\n",
    "\n",
    "let ingredients = [];\n",
    "let result = '';\n",
    "\n",
    "while (true) {\n",
    "    let ingredientName = prompt(\"Enter the ingredient name (or 'done' to finish): \");\n",
    "    if (ingredientName === 'done') {\n",
    "        break;\n",
    "    }\n",
    "\n",
    "    let quantity = parseFloat(prompt(`Enter the quantity for ${ingredientName}: `));\n",
    "    let currentUnit = prompt(\"Enter the current unit (cup, tablespoon, teaspoon): \")\n",
    "    let targetUnit = prompt(\"Enter the unit to convert to (cup, tablespoon, teaspoon): \")\n",
    "\n",
    "    let convertedQuantity;\n",
    "\n",
    "    if (currentUnit === \"cup\" && targetUnit === \"tablespoon\") {\n",
    "        convertedQuantity = quantity * cupToTablespoon;\n",
    "    } else if (currentUnit === \"cup\" && targetUnit === \"teaspoon\") {\n",
    "        convertedQuantity = quantity * cupToTeaspoon;\n",
    "    } else if (currentUnit === \"tablespoon\" && targetUnit === \"cup\") {\n",
    "        convertedQuantity = quantity / cupToTablespoon;\n",
    "    } else if (currentUnit === \"tablespoon\" && targetUnit === \"teaspoon\") {\n",
    "        convertedQuantity = quantity * tablespoonToTeaspoon;\n",
    "    } else if (currentUnit === \"teaspoon\" && targetUnit === \"cup\") {\n",
    "        convertedQuantity = quantity / cupToTeaspoon;\n",
    "    } else if (currentUnit === \"teaspoon\" && targetUnit === \"tablespoon\") {\n",
    "        convertedQuantity = quantity / tablespoonToTeaspoon;\n",
    "    }\n",
    "\n",
    "    result += `${quantity} ${currentUnit} of ${ingredientName} is equal to ${convertedQuantity.toFixed(2)} ${targetUnit}.\\n`;\n",
    "}\n",
    "\n",
    "console.log(result);\n"
   ]
  },
  {
   "cell_type": "markdown",
   "metadata": {},
   "source": [
    "## Strings"
   ]
  },
  {
   "cell_type": "markdown",
   "metadata": {},
   "source": [
    "### Popcorn Hack 1"
   ]
  },
  {
   "cell_type": "code",
   "execution_count": 8,
   "metadata": {
    "vscode": {
     "languageId": "javascript"
    }
   },
   "outputs": [
    {
     "data": {
      "application/javascript": "// BONUS - I ADDED PROMPTS TO GET USER INPUT\nlet myfavoritemovie = prompt(\"Enter your favorite movie: \");\nlet myfavoritesport = prompt(\"Enter your favorite sport: \");\nlet myfavoritefood = prompt(\"Enter your favorite food: \");\n\n// Concatenation\nlet concatenatedMessage = \"My favorite movie is \" + myfavoritemovie + \". I love playing \" + myfavoritesport + \" and my favorite food is \" + myfavoritefood + \".\";\n\n// Interpolation\nlet interpolatedMessage = `My favorite movie is ${myfavoritemovie}. I love playing ${myfavoritesport} and my favorite food is ${myfavoritefood}.`;\n\n// I ADDED OUTPUT\nconsole.log(concatenatedMessage);\nconsole.log(interpolatedMessage);\n",
      "text/plain": [
       "<IPython.core.display.Javascript object>"
      ]
     },
     "metadata": {},
     "output_type": "display_data"
    }
   ],
   "source": [
    "%%js\n",
    "// BONUS - I ADDED PROMPTS TO GET USER INPUT\n",
    "let myfavoritemovie = prompt(\"Enter your favorite movie: \");\n",
    "let myfavoritesport = prompt(\"Enter your favorite sport: \");\n",
    "let myfavoritefood = prompt(\"Enter your favorite food: \");\n",
    "\n",
    "// Concatenation\n",
    "let concatenatedMessage = \"My favorite movie is \" + myfavoritemovie + \". I love playing \" + myfavoritesport + \" and my favorite food is \" + myfavoritefood + \".\";\n",
    "\n",
    "// Interpolation\n",
    "let interpolatedMessage = `My favorite movie is ${myfavoritemovie}. I love playing ${myfavoritesport} and my favorite food is ${myfavoritefood}.`;\n",
    "\n",
    "// I ADDED OUTPUT\n",
    "console.log(concatenatedMessage);\n",
    "console.log(interpolatedMessage);"
   ]
  },
  {
   "cell_type": "markdown",
   "metadata": {},
   "source": [
    "### Popcorn Hack 2"
   ]
  },
  {
   "cell_type": "code",
   "execution_count": 25,
   "metadata": {
    "vscode": {
     "languageId": "javascript"
    }
   },
   "outputs": [
    {
     "data": {
      "application/javascript": "//INPUT\nlet sentence = \"Genius is 1% inspiration and 99% perspiration.\";\n\nlet wordGenius = sentence.slice(0, 6);\nlet wordMiles = sentence.slice(-33, -22);\nlet fromBegins = sentence.slice(28);\n\n//OUTPUT\n\nconsole.log(`Extracted word: ${wordGenius}`);\nconsole.log(`Extracted word: ${wordMiles}`);\nconsole.log(`Extracted from '99%' to the end: ${fromBegins}`);\n",
      "text/plain": [
       "<IPython.core.display.Javascript object>"
      ]
     },
     "metadata": {},
     "output_type": "display_data"
    }
   ],
   "source": [
    "%%javascript\n",
    "//INPUT\n",
    "let sentence = \"Genius is 1% inspiration and 99% perspiration.\";\n",
    "\n",
    "let wordGenius = sentence.slice(0, 6);\n",
    "let wordMiles = sentence.slice(-33, -22);\n",
    "let fromBegins = sentence.slice(28);\n",
    "\n",
    "//OUTPUT\n",
    "\n",
    "console.log(`Extracted word: ${wordGenius}`);\n",
    "console.log(`Extracted word: ${wordMiles}`);\n",
    "console.log(`Extracted from '99%' to the end: ${fromBegins}`);"
   ]
  },
  {
   "cell_type": "markdown",
   "metadata": {},
   "source": [
    "### Popcorn Hack 3"
   ]
  },
  {
   "cell_type": "code",
   "execution_count": 9,
   "metadata": {},
   "outputs": [
    {
     "name": "stdout",
     "output_type": "stream",
     "text": [
      "Ysh Prkh\n"
     ]
    }
   ],
   "source": [
    "def remove_vowels(input_str):\n",
    "    vowels = \"aeiouAEIOU\"\n",
    "    result = ''.join([char for char in input_str if char not in vowels])\n",
    "    return result\n",
    "\n",
    "sentence = \"Yash Parikh\"\n",
    "print(remove_vowels(sentence))"
   ]
  },
  {
   "cell_type": "markdown",
   "metadata": {},
   "source": [
    "#### Popcorn Hack 4"
   ]
  },
  {
   "cell_type": "code",
   "execution_count": 7,
   "metadata": {},
   "outputs": [
    {
     "name": "stdout",
     "output_type": "stream",
     "text": [
      "fun is programming Python\n"
     ]
    }
   ],
   "source": [
    "#BONUS - I REMADE IT IN A DIFFERENT WAY\n",
    "def reverse_word_order(sentence):\n",
    "    words = sentence.split()\n",
    "    reversed_words = words[::-1]\n",
    "    reversed_sentence = ' '.join(reversed_words)\n",
    "    return reversed_sentence\n",
    "\n",
    "input_sentence = \"Python programming is fun\"\n",
    "print(reverse_word_order(input_sentence))"
   ]
  }
 ],
 "metadata": {
  "kernelspec": {
   "display_name": "venv",
   "language": "python",
   "name": "python3"
  },
  "language_info": {
   "codemirror_mode": {
    "name": "ipython",
    "version": 3
   },
   "file_extension": ".py",
   "mimetype": "text/x-python",
   "name": "python",
   "nbconvert_exporter": "python",
   "pygments_lexer": "ipython3",
   "version": "3.12.3"
  }
 },
 "nbformat": 4,
 "nbformat_minor": 2
}
