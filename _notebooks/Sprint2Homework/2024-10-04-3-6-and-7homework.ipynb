{
 "cells": [
  {
   "cell_type": "raw",
   "metadata": {
    "vscode": {
     "languageId": "raw"
    }
   },
   "source": [
    "---\n",
    "toc: false\n",
    "layout: post\n",
    "type: tangibles\n",
    "courses: { compsci: {week: 1} }\n",
    "title: 3.6 and 3.7 Popcorn and Homework Hacks\n",
    "description: Yash's Submission for 3.6 and 3.7 Homework\n",
    "comments: true\n",
    "---"
   ]
  },
  {
   "cell_type": "markdown",
   "metadata": {},
   "source": [
    "## Conditionals"
   ]
  },
  {
   "cell_type": "markdown",
   "metadata": {},
   "source": [
    "### Popcorn Hack 1\n",
    "(Python and Javascript)"
   ]
  },
  {
   "cell_type": "code",
   "execution_count": 4,
   "metadata": {},
   "outputs": [
    {
     "name": "stdout",
     "output_type": "stream",
     "text": [
      "double digits\n"
     ]
    }
   ],
   "source": [
    "num1 = input(\"Enter a number: \")\n",
    "\n",
    "if len(num1) == 1:\n",
    "    print(\"single digits\")\n",
    "elif len(num1) == 2:\n",
    "    print(\"double digits\")\n",
    "elif len(num1) == 3:    \n",
    "    print(\"triple digits\")\n",
    "else:\n",
    "    print(\"I don't know what you are talking about\")"
   ]
  },
  {
   "cell_type": "code",
   "execution_count": 6,
   "metadata": {
    "vscode": {
     "languageId": "javascript"
    }
   },
   "outputs": [
    {
     "data": {
      "application/javascript": "function digits(num) {\n    if (num >= 1 && num <= 9) {\n        return \"single digits\";\n    } else if (num >= 10 && num <= 99) {\n        return \"double digits\";\n    } else if (num >= 100 && num <= 999) {\n        return \"triple digits\";\n    } else {\n        return \"invalid number\";\n    }\n}\n    \nconsole.log(digits(5));\nconsole.log(digits(53));\nconsole.log(digits(501));\n",
      "text/plain": [
       "<IPython.core.display.Javascript object>"
      ]
     },
     "metadata": {},
     "output_type": "display_data"
    }
   ],
   "source": [
    "%%js\n",
    "function digits(num) {\n",
    "    if (num >= 1 && num <= 9) {\n",
    "        return \"single digits\";\n",
    "    } else if (num >= 10 && num <= 99) {\n",
    "        return \"double digits\";\n",
    "    } else if (num >= 100 && num <= 999) {\n",
    "        return \"triple digits\";\n",
    "    } else {\n",
    "        return \"invalid number\";\n",
    "    }\n",
    "}\n",
    "    \n",
    "console.log(digits(5));\n",
    "console.log(digits(53));\n",
    "console.log(digits(501));"
   ]
  },
  {
   "cell_type": "markdown",
   "metadata": {},
   "source": [
    "### Popcorn Hack #2\n",
    "(Only Python)"
   ]
  },
  {
   "cell_type": "code",
   "execution_count": 7,
   "metadata": {},
   "outputs": [
    {
     "name": "stdout",
     "output_type": "stream",
     "text": [
      "Take an umbrella\n"
     ]
    }
   ],
   "source": [
    "raining = True\n",
    "\n",
    "if raining:\n",
    "    print(\"Take an umbrella\")\n",
    "else:\n",
    "    print(\"Don't take an umbrella\")"
   ]
  },
  {
   "cell_type": "markdown",
   "metadata": {},
   "source": [
    "### Popcorn Hack #3\n",
    "(Only Javascript)"
   ]
  },
  {
   "cell_type": "code",
   "execution_count": 8,
   "metadata": {
    "vscode": {
     "languageId": "javascript"
    }
   },
   "outputs": [
    {
     "data": {
      "application/javascript": "\nlet moment = require('moment');\n//let option = input(\"Enter a date format: \");\n// change to hardset variable\nlet option = \"MM/DD/YYYY\";\nif (option === \"MM/DD/YYYY\") {\n    console.log(moment().format(\"MM/DD/YYYY\"));\n}\nelse if (option === \"DD/MM/YYYY\") {\n    console.log(moment().format(\"DD/MM/YYYY\"));\n}\nelse {\n    console.log(\"Invalid date format\");\n}\n",
      "text/plain": [
       "<IPython.core.display.Javascript object>"
      ]
     },
     "metadata": {},
     "output_type": "display_data"
    }
   ],
   "source": [
    "%%js\n",
    "\n",
    "let moment = require('moment');\n",
    "//let option = input(\"Enter a date format: \");\n",
    "// change to hardset variable\n",
    "let option = \"MM/DD/YYYY\";\n",
    "if (option === \"MM/DD/YYYY\") {\n",
    "    console.log(moment().format(\"MM/DD/YYYY\"));\n",
    "}\n",
    "else if (option === \"DD/MM/YYYY\") {\n",
    "    console.log(moment().format(\"DD/MM/YYYY\"));\n",
    "}\n",
    "else {\n",
    "    console.log(\"Invalid date format\");\n",
    "}"
   ]
  },
  {
   "cell_type": "markdown",
   "metadata": {},
   "source": [
    "### Homework Hack"
   ]
  },
  {
   "cell_type": "code",
   "execution_count": 13,
   "metadata": {},
   "outputs": [
    {
     "name": "stdout",
     "output_type": "stream",
     "text": [
      "You scored 4/5!\n"
     ]
    }
   ],
   "source": [
    "correct = 0\n",
    "\n",
    "q1 = input(\"1. How many points is a free throw worth? (a) 1 (b) 2 (c) 3: \")\n",
    "if q1.lower() == \"a\":\n",
    "    correct += 1\n",
    "\n",
    "q2 = input(\"2. How long is an NBA quarter? (a) 10 minutes (b) 12 minutes (c) 15 minutes: \")\n",
    "if q2.lower() == \"b\":\n",
    "    correct += 1\n",
    "\n",
    "q3 = input(\"3. How many players from each team are on the court during a basketball game? (a) 4 (b) 5 (c) 6: \")\n",
    "if q3.lower() == \"b\":\n",
    "    correct += 1\n",
    "\n",
    "q4 = input(\"4. Which NBA player is known for winning 6 championships with the Chicago Bulls? (a) Michael Jordan (b) Kobe Bryant (c) LeBron James: \")\n",
    "if q4.lower() == \"a\":\n",
    "    correct += 1\n",
    "\n",
    "q5 = input(\"5. Which team has won the most NBA championships? (a) Los Angeles Lakers (b) Boston Celtics (c) Golden State Warriors: \")\n",
    "if q5.lower() == \"b\":\n",
    "    correct += 1\n",
    "\n",
    "print(f\"You scored {correct}/5!\")"
   ]
  },
  {
   "cell_type": "markdown",
   "metadata": {},
   "source": [
    "## Nested Conditionals"
   ]
  },
  {
   "cell_type": "markdown",
   "metadata": {},
   "source": [
    "### Popcorn Hack #1\n",
    "(Python and Javascript)"
   ]
  },
  {
   "cell_type": "code",
   "execution_count": 1,
   "metadata": {},
   "outputs": [
    {
     "name": "stdout",
     "output_type": "stream",
     "text": [
      "You can join a local sports team!\n"
     ]
    }
   ],
   "source": [
    "age = int(input(\"Enter your age: \"))\n",
    "likes_sports = input(\"Do you like sports? (yes/no): \").lower()\n",
    "\n",
    "if age >= 18:\n",
    "    if likes_sports == \"yes\":\n",
    "        print(\"You can join a local sports team!\")\n",
    "    else:\n",
    "        print(\"You can try some indoor exercises.\")\n",
    "else:\n",
    "    print(\"You should focus on school sports activities!\")"
   ]
  },
  {
   "cell_type": "code",
   "execution_count": 9,
   "metadata": {
    "vscode": {
     "languageId": "javascript"
    }
   },
   "outputs": [
    {
     "data": {
      "application/javascript": "//let age = parseInt(prompt(\"Enter your age:\"));\n//let likesSports = prompt(\"Do you like sports? (yes/no):\").toLowerCase();\n// change to hardset variable\nlet age = 20;\nlet likesSports = \"yes\";\n\nif (age >= 18) {\n    if (likesSports === \"yes\") {\n        console.log(\"You can join a local sports team!\");\n    } else {\n        console.log(\"You can try some indoor exercises.\");\n    }\n} else {\n    console.log(\"You should focus on school sports activities!\");\n}\n",
      "text/plain": [
       "<IPython.core.display.Javascript object>"
      ]
     },
     "metadata": {},
     "output_type": "display_data"
    }
   ],
   "source": [
    "%%js\n",
    "//let age = parseInt(prompt(\"Enter your age:\"));\n",
    "//let likesSports = prompt(\"Do you like sports? (yes/no):\").toLowerCase();\n",
    "// change to hardset variable\n",
    "let age = 20;\n",
    "let likesSports = \"yes\";\n",
    "\n",
    "if (age >= 18) {\n",
    "    if (likesSports === \"yes\") {\n",
    "        console.log(\"You can join a local sports team!\");\n",
    "    } else {\n",
    "        console.log(\"You can try some indoor exercises.\");\n",
    "    }\n",
    "} else {\n",
    "    console.log(\"You should focus on school sports activities!\");\n",
    "}"
   ]
  },
  {
   "cell_type": "markdown",
   "metadata": {},
   "source": [
    "### Popcorn Hack 2"
   ]
  },
  {
   "cell_type": "code",
   "execution_count": 10,
   "metadata": {},
   "outputs": [
    {
     "name": "stdout",
     "output_type": "stream",
     "text": [
      "You can buy a Nintendo Switch!\n"
     ]
    }
   ],
   "source": [
    "budget = 300  \n",
    "\n",
    "ps5_price = 500\n",
    "xbox_price = 400\n",
    "nintendo_switch_price = 300\n",
    "\n",
    "if budget >= ps5_price:\n",
    "    print(\"You can buy a PS5!\")\n",
    "elif budget >= xbox_price:\n",
    "    print(\"You can buy an Xbox!\")\n",
    "elif budget >= nintendo_switch_price:\n",
    "    print(\"You can buy a Nintendo Switch!\")\n",
    "else:\n",
    "    print(\"You don't have enough money to buy a console.\")\n"
   ]
  },
  {
   "cell_type": "markdown",
   "metadata": {},
   "source": [
    "### Popcorn Hack 3"
   ]
  },
  {
   "cell_type": "code",
   "execution_count": 11,
   "metadata": {
    "vscode": {
     "languageId": "javascript"
    }
   },
   "outputs": [
    {
     "data": {
      "application/javascript": "let is_weather_good = true;\nlet are_friends_available = false;\n\nif (is_weather_good) {\n    console.log(\"It's a great day to be outside!\");\n\n    if (are_friends_available) {\n        console.log(\"You can organize a soccer game with friends.\");\n    } else {\n        console.log(\"Go for a solo hike or bike ride.\");\n    }\n} else {\n    console.log(\"The weather isn't good, consider staying indoors.\");\n}\n",
      "text/plain": [
       "<IPython.core.display.Javascript object>"
      ]
     },
     "metadata": {},
     "output_type": "display_data"
    }
   ],
   "source": [
    "%%js\n",
    "let is_weather_good = true;\n",
    "let are_friends_available = false;\n",
    "\n",
    "if (is_weather_good) {\n",
    "    console.log(\"It's a great day to be outside!\");\n",
    "\n",
    "    if (are_friends_available) {\n",
    "        console.log(\"You can organize a soccer game with friends.\");\n",
    "    } else {\n",
    "        console.log(\"Go for a solo hike or bike ride.\");\n",
    "    }\n",
    "} else {\n",
    "    console.log(\"The weather isn't good, consider staying indoors.\");\n",
    "}"
   ]
  },
  {
   "cell_type": "markdown",
   "metadata": {},
   "source": [
    "### Homework Hack\n",
    "I made this my own by changing it to a bike race with unique categories!"
   ]
  },
  {
   "cell_type": "code",
   "execution_count": 14,
   "metadata": {},
   "outputs": [
    {
     "name": "stdout",
     "output_type": "stream",
     "text": [
      "Awesome! You will race in the senior category.\n"
     ]
    }
   ],
   "source": [
    "age = int(input(\"Enter your age: \"))\n",
    "has_bike = input(\"Do you have a bike? (yes/no): \").lower()\n",
    "\n",
    "can_join_race = age >= 10 and has_bike == \"yes\"\n",
    "\n",
    "if can_join_race:\n",
    "    if age < 15:\n",
    "        message = \"You will race in the junior category.\"\n",
    "    else:\n",
    "        message = \"You will race in the senior category.\"\n",
    "\n",
    "    print(f\"Awesome! {message}\")\n",
    "else:\n",
    "    print(\"Sorry, you can't join the race yet.\")"
   ]
  }
 ],
 "metadata": {
  "kernelspec": {
   "display_name": "venv",
   "language": "python",
   "name": "python3"
  },
  "language_info": {
   "codemirror_mode": {
    "name": "ipython",
    "version": 3
   },
   "file_extension": ".py",
   "mimetype": "text/x-python",
   "name": "python",
   "nbconvert_exporter": "python",
   "pygments_lexer": "ipython3",
   "version": "3.12.3"
  }
 },
 "nbformat": 4,
 "nbformat_minor": 2
}
