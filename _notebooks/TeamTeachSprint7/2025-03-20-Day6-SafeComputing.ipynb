{
 "cells": [
  {
   "cell_type": "raw",
   "metadata": {
    "vscode": {
     "languageId": "raw"
    }
   },
   "source": [
    "---\n",
    "layout: page\n",
    "title: Yash Parikh - Lesson Day 6 - Safe Computing\n",
    "course: \"compsci\"\n",
    "week: 28\n",
    "type: hacks\n",
    "---"
   ]
  },
  {
   "cell_type": "markdown",
   "metadata": {},
   "source": [
    "## Popcorn Hack 1\n",
    "\n",
    "Here is how I found the cookie with the name SSID in my browser:\n",
    "\n",
    "1. I opened the developer tools in my browser (Fn+F12)\n",
    "2. I clicked on the \"Application\" tab\n",
    "3. I clicked on \"Cookies\" in the left sidebar\n",
    "4. I clicked on the URL of the website I was on\n",
    "5. I searched for the cookie with the name \"SSID\" in the list of cookies\n",
    "\n",
    "![Image](https://github.com/user-attachments/assets/6e6b45e9-a1ee-4412-956b-8c376c37867a)"
   ]
  },
  {
   "cell_type": "markdown",
   "metadata": {},
   "source": [
    "## Popcorn Hack 2\n",
    "\n",
    "I identified the squares that have traffic lights in them.\n",
    "\n",
    "![Image](https://github.com/user-attachments/assets/ada3e1d3-e0e9-4453-a7b6-64ba472ea574)"
   ]
  },
  {
   "cell_type": "markdown",
   "metadata": {},
   "source": [
    "## Homework Hack 1\n",
    "\n",
    "![Image](https://github.com/user-attachments/assets/764572f5-9b7f-463a-a3f3-b1131eb5451f)\n",
    "\n",
    "![Image](https://github.com/user-attachments/assets/c20600cd-40e8-4410-a5c6-251cb40f47b2)\n",
    "\n",
    "![Image](https://github.com/user-attachments/assets/8047bf9d-93ca-4b2f-a81e-1799d0fd72b4)\n",
    "\n",
    "## Homework Hack 2"
   ]
  },
  {
   "cell_type": "code",
   "execution_count": null,
   "metadata": {},
   "outputs": [],
   "source": [
    "import random\n",
    "\n",
    "def caesar_cipher(text, shift, mode):\n",
    "    result = \"\"\n",
    "    for char in text:\n",
    "        if char.isalpha():\n",
    "            shift_amount = shift if mode == \"encrypt\" else -shift\n",
    "            new_char = chr(((ord(char.lower()) - 97 + shift_amount) % 26) + 97)\n",
    "            result += new_char.upper() if char.isupper() else new_char\n",
    "        else:\n",
    "            result += char\n",
    "    return result\n",
    "\n",
    "mode = input(\"Do you want to encrypt or decrypt? \").strip().lower()\n",
    "message = input(\"Enter your message: \")\n",
    "shift_input = input(\"Enter shift value (number of places to shift or 'random'): \").strip().lower()\n",
    "\n",
    "if shift_input == \"random\":\n",
    "    shift = random.randint(1, 25)\n",
    "    print(f\"Randomly chosen shift value: {shift}\")\n",
    "else:\n",
    "    try:\n",
    "        shift = int(shift_input)\n",
    "    except ValueError:\n",
    "        print(\"Invalid shift value entered. Defaulting to shift value of 0.\")\n",
    "        shift = 0\n",
    "\n",
    "output = caesar_cipher(message, shift, mode)\n",
    "print(f\"Result: {output}\")"
   ]
  }
 ],
 "metadata": {
  "kernelspec": {
   "display_name": "venv",
   "language": "python",
   "name": "python3"
  },
  "language_info": {
   "codemirror_mode": {
    "name": "ipython",
    "version": 3
   },
   "file_extension": ".py",
   "mimetype": "text/x-python",
   "name": "python",
   "nbconvert_exporter": "python",
   "pygments_lexer": "ipython3",
   "version": "3.12.3"
  }
 },
 "nbformat": 4,
 "nbformat_minor": 2
}
