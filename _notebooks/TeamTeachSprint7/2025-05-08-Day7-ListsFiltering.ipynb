{
 "cells": [
  {
   "cell_type": "raw",
   "metadata": {
    "vscode": {
     "languageId": "raw"
    }
   },
   "source": [
    "---\n",
    "layout: page\n",
    "title: Yash Parikh - Lesson Day 7 - Lists and Filtering Algorithms\n",
    "course: \"compsci\"\n",
    "week: 28\n",
    "type: hacks\n",
    "---"
   ]
  },
  {
   "cell_type": "markdown",
   "metadata": {},
   "source": [
    "## Popcorn Hack 1\n",
    "*What are some possible benefits of using lists? What are some real world examples of lists being used in code ?*\n",
    "\n",
    "One benefit of using lists is that they allow for the storage and organization of multiple items in a single variable. This can make it easier to manage and manipulate data, as well as improve code readability.\n",
    "For example, in a shopping list application, a list can be used to store all the items that need to be purchased. This allows the user to easily add, remove, or check off items as they are bought. In a game, a list can be used to keep track of the player's inventory, allowing for easy access and management of items."
   ]
  },
  {
   "cell_type": "markdown",
   "metadata": {},
   "source": [
    "## Popcorn Hack 2\n",
    "\n",
    "What does this code output?\n",
    "\n",
    "```python\n",
    "items = [\"pen\", \"pencil\", \"marker\", \"eraser\"]\n",
    "items.remove(\"pencil\")\n",
    "items.append(\"sharpener\")\n",
    "print(items[2])\n",
    "```\n",
    "\n",
    "The output of this code will be \"sharpener\".\n",
    "This is because the code first removes \"pencil\" from the list, then appends \"sharpener\" to the end of the list. The final list will be [\"pen\", \"marker\", \"eraser\", \"sharpener\"], and when we print the item at index 2, it will be \"sharpener\".\n",
    "\n",
    "Running this code also shows that:"
   ]
  },
  {
   "cell_type": "code",
   "execution_count": null,
   "metadata": {},
   "outputs": [],
   "source": [
    "items = [\"pen\", \"pencil\", \"marker\", \"eraser\"]\n",
    "items.remove(\"pencil\")\n",
    "items.append(\"sharpener\")\n",
    "print(items[2])"
   ]
  },
  {
   "cell_type": "markdown",
   "metadata": {},
   "source": [
    "## Popcorn Hack 3\n",
    "*What are some real world examples of filtering algorithms?*\n",
    "\n",
    "Some examples of filtering algorithms in the real world include:\n",
    "- Spam filters in email applications that identify and filter out unwanted messages.\n",
    "- Content filtering algorithms used by social media platforms to identify and remove inappropriate or harmful content.\n",
    "- Recommendation systems that filter and suggest products or content based on user preferences and behavior.\n",
    "- Image processing algorithms that filter out noise or enhance certain features in an image.\n",
    "- Search engines that filter and rank results based on relevance and quality."
   ]
  },
  {
   "cell_type": "markdown",
   "metadata": {},
   "source": [
    "## Homework Hack"
   ]
  },
  {
   "cell_type": "markdown",
   "metadata": {},
   "source": [
    "Instructions:\n",
    "\n",
    "1) Create a list that includes at least five items\n",
    "\n",
    "Use at least three different list procedures:\n",
    "\n",
    "Label with comments where each list procedure is used and explain what it’s doing.\n",
    "\n",
    "2) List Traversal Instructions:\n",
    "\n",
    "Write the steps for how you would go through your list one item at a time.\n",
    "\n",
    "Clearly describe how the traversal happens (loop type and structure).\n",
    "\n",
    "3) Filtering Algorithm Instructions:\n",
    "\n",
    "Choose a condition\n",
    "Write out the steps you would take to:\n",
    "Start with a list\n",
    "Go through each item (traversal)\n",
    "Apply your condition\n",
    "Build a new list with only the items that pass your test\n",
    "\n",
    "```python\n",
    "# LIST\n",
    "items = [\"apple\", \"banana\", \"cherry\", \"mango\", \"raspberry\"]\n",
    "\n",
    "# PROCEDURES\n",
    "items.append(\"blueberry\")\n",
    "items.insert(2, \"grape\")\n",
    "items.sort()\n",
    "\n",
    "# LIST TRAVERSAL STEPS \n",
    "# 1. Use a for loop to go through each item in the list\n",
    "for item in items:\n",
    "    print(item)  # 2. Print each item in the list\n",
    "# 3. The loop structure is a simple for loop that iterates over the list\n",
    "# 4. The loop will continue until all items in the list have been printed\n",
    "\n",
    "# FILTERING ALGORITHM STEPS\n",
    "# Condition: Keep only items that start with a vowel\n",
    "def starts_with_vowel(item):\n",
    "    return item[0].lower() in 'aeiou'\n",
    "# Start with the original list\n",
    "original_list = items.copy()\n",
    "# Create an empty list to hold filtered items\n",
    "filtered_list = []\n",
    "# Go through each item in the original list\n",
    "for item in original_list:\n",
    "    # Apply the condition\n",
    "    if starts_with_vowel(item):\n",
    "        # Add to filtered list if condition is met\n",
    "        filtered_list.append(item)\n",
    "# Print the filtered list\n",
    "print(filtered_list)  # Output the filtered list\n",
    "\n",
    "# Example output:\n",
    "['apple', 'elderberry', 'fig']\n",
    "```\n",
    "\n",
    "Actual output:"
   ]
  },
  {
   "cell_type": "code",
   "execution_count": null,
   "metadata": {},
   "outputs": [],
   "source": [
    "# LIST\n",
    "items = [\"apple\", \"banana\", \"cherry\", \"mango\", \"raspberry\"]\n",
    "\n",
    "# PROCEDURES\n",
    "items.append(\"blueberry\")\n",
    "items.insert(2, \"grape\")\n",
    "items.sort()\n",
    "\n",
    "# LIST TRAVERSAL STEPS \n",
    "# 1. Use a for loop to go through each item in the list\n",
    "for item in items:\n",
    "    print(item)  # 2. Print each item in the list\n",
    "# 3. The loop structure is a simple for loop that iterates over the list\n",
    "# 4. The loop will continue until all items in the list have been printed\n",
    "\n",
    "# FILTERING ALGORITHM STEPS\n",
    "# Condition: Keep only items that start with a vowel\n",
    "def starts_with_vowel(item):\n",
    "    return item[0].lower() in 'aeiou'\n",
    "# Start with the original list\n",
    "original_list = items.copy()\n",
    "# Create an empty list to hold filtered items\n",
    "filtered_list = []\n",
    "# Go through each item in the original list\n",
    "for item in original_list:\n",
    "    # Apply the condition\n",
    "    if starts_with_vowel(item):\n",
    "        # Add to filtered list if condition is met\n",
    "        filtered_list.append(item)\n",
    "# Print the filtered list\n",
    "print(filtered_list)  # Output the filtered list"
   ]
  },
  {
   "cell_type": "markdown",
   "metadata": {},
   "source": [
    "## Final Reflection\n",
    "*In two complete sentences, explain when and how filtering algorithms and lists are used in real life.*\n",
    "\n",
    "Filtering algorithms and lists are used in real life to manage and organize large sets of data, allowing for efficient retrieval and analysis. For example, social media platforms use filtering algorithms to curate content for users based on their preferences, while e-commerce websites use lists to display products that match user search criteria."
   ]
  }
 ],
 "metadata": {
  "language_info": {
   "name": "python"
  }
 },
 "nbformat": 4,
 "nbformat_minor": 2
}
