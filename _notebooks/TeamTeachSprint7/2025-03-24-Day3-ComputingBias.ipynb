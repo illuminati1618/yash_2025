{
 "cells": [
  {
   "cell_type": "raw",
   "metadata": {
    "vscode": {
     "languageId": "raw"
    }
   },
   "source": [
    "---\n",
    "layout: page\n",
    "title: Yash Parkih - Lesson Day 3 - Computing Bias\n",
    "course: \"compsci\"\n",
    "week: 28\n",
    "type: hacks\n",
    "---"
   ]
  },
  {
   "cell_type": "markdown",
   "metadata": {},
   "source": [
    "## Popcorn Hack 1\n",
    "\n",
    "*What is an example of Explicit Data?*\n",
    "\n",
    "A) Netflix recommends shows based on your viewing history.\n",
    "B) You provide your name, age, and preferences when creating a Netflix account.\n",
    "C) Netflix tracks the time you spend watching certain genres.\n",
    "\n",
    "The answer is B. When you create a Netflix account, you provide your name, age, and preferences. This is an example of explicit data because you are explicitly providing information about yourself. Netflix uses this information to recommend shows based on your preferences, but those are explicitly defined by the user."
   ]
  },
  {
   "cell_type": "markdown",
   "metadata": {},
   "source": [
    "## Popcorn Hack 2\n",
    "\n",
    "*What is an example of Data Bias?*\n",
    "\n",
    "A) A hiring algorithm favors male candidates because the training data contains a disproportionate number of male resumes.\n",
    "B) A system is trained on a dataset where certain groups, such as people with darker skin tones, are underrepresented.\n",
    "C) A researcher intentionally selects data that supports their own beliefs about the impact of screen time on grades.\n",
    "\n",
    "The answer is B. Data bias occurs when the training data used to build a model is not representative of the population it is meant to serve. In this case, the dataset used to train the system lacks diversity and underrepresents certain groups, leading to biased outcomes. This can result in unfair treatment or discrimination against those groups."
   ]
  },
  {
   "cell_type": "markdown",
   "metadata": {},
   "source": [
    "## Homework Hack"
   ]
  },
  {
   "cell_type": "code",
   "execution_count": null,
   "metadata": {},
   "outputs": [],
   "source": [
    "AAA"
   ]
  }
 ],
 "metadata": {
  "language_info": {
   "name": "python"
  }
 },
 "nbformat": 4,
 "nbformat_minor": 2
}
