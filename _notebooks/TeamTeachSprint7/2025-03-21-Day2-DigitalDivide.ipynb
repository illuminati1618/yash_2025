{
 "cells": [
  {
   "cell_type": "raw",
   "metadata": {
    "vscode": {
     "languageId": "raw"
    }
   },
   "source": [
    "---\n",
    "layout: page\n",
    "title: Yash Parkih - Lesson Day 2 - The Digital Divide\n",
    "course: \"compsci\"\n",
    "week: 28\n",
    "type: hacks\n",
    "---"
   ]
  },
  {
   "cell_type": "markdown",
   "metadata": {},
   "source": [
    "## Popcorn Hack 1\n",
    "\n",
    "*Identify one area (e.g., education, employment, healthcare, or community participation) where you’ve seen the digital divide in action. How does it affect people in different socioeconomic backgrounds?*\n",
    "\n",
    "One area where I have seen the digital divide is in healthcare access. I have noticed this because people from higher socioeconomic backgrounds have better access to healthcare services and information compared to those from lower socioeconomic backgrounds."
   ]
  },
  {
   "cell_type": "markdown",
   "metadata": {},
   "source": [
    "## Popcorn Hack 2\n",
    "\n",
    "*Can you think of a computing innovation that might unintentionally exclude certain groups? Why might that happen?*\n",
    "\n",
    "One recent computing innovation is how Apple is working on improved eye tracking technology for its devices. This innovation might unintentionally exclude people who have disabilities related to their eyesight, as if using eye tracking technology becomes a normality, people who are unable to use it due to their disabilities might be left out."
   ]
  },
  {
   "cell_type": "markdown",
   "metadata": {},
   "source": [
    "## Homework Hack 1"
   ]
  },
  {
   "cell_type": "markdown",
   "metadata": {},
   "source": [
    "***A rural school district receives new funding to upgrade its internet infrastructure. Which of the following outcomes could most unintentionally widen the digital divide in that district?**\n",
    "A. The new broadband network is never advertised, leaving only a few families aware of its availability.\n",
    "B. The infrastructure upgrade is offered only at the main high school, leaving feeder schools with minimal connectivity.\n",
    "C. The district requires a mandatory device insurance fee, which students in underserved areas may still struggle to pay.\n",
    "D. Community organizations host digital literacy workshops in the evenings for families with limited scheduling flexibility.\n",
    "\n",
    "The answer is C. This is because even though the district has upgraded its internet infrastructure, students in underserved areas may still struggle to pay for the mandatory device insurance fee, which could unintentionally widen the digital divide.\n",
    "\n",
    "*A national organization donates refurbished laptops to multiple low-income neighborhoods. Which scenario best illustrates a hidden challenge that can derail this well-intentioned effort?*\n",
    "A. The donated laptops run older operating systems but fully support common productivity software.\n",
    "B. The neighborhoods receive data-capped internet plans, making streaming and frequent updates cost-prohibitive.\n",
    "C. The organization arranges part-time digital literacy instructors to teach basic computer skills.\n",
    "D. Each laptop comes with built-in parental controls that require an additional subscription for advanced features.\n",
    "\n",
    "The answer is B. This is because the neighborhood has to struggle to use internet properly, which harms the people's ability to use such a powerful tool for their lives.\n",
    "\n",
    "*A city introduces an online public forum for local policy decisions to increase civic participation. Which action would best mitigate the risk of digital inequalities in this process?*\n",
    "A. The city mandates all participants to use encrypted messaging apps to ensure authenticity of input.\n",
    "B. The city holds in-person “tech sessions” and subsidizes internet costs for underrepresented districts.\n",
    "C. The forum only allows posting during non-business hours to ensure server reliability for all users.\n",
    "D. The city partners with a private data analytics firm to filter out irrelevant comments.\n",
    "\n",
    "The answer is B. This is because the city is helping anyone who wants to get this help, especially in underrepresented districts, which means that people are no longer deprived of resources for help learning how to utilize the internet. By subsidizing internet costs for underrepresented districts, they also help people who may be struggling in different ways and so they may need more help with using the internet."
   ]
  },
  {
   "cell_type": "markdown",
   "metadata": {},
   "source": [
    "## Homework Hack 2"
   ]
  },
  {
   "cell_type": "markdown",
   "metadata": {},
   "source": [
    "*Write 5 sentences describing what you have noticed about the digital divide in your own community. Consider how socioeconomic factors, location, and access to technology may play a role. Then explain how you can personally help bridge this gap—perhaps through awareness, advocating for policy changes, or supporting community-based tech programs. Make sure each sentence provides a clear insight or action step. Submit your 5 sentences in the next class.*\n",
    "\n",
    "In my community, the main issue isn't socioeconomic factors as 4S Ranch and Del Sur are more well-off areas. However, there are still a few issues.\n",
    "\n",
    "1. Senior citizens struggle with using the internet and also have trouble avoiding target scams.\n",
    "2. Children are unaware of the good and bad of the internet and may accidentally use things like their parents credit card information to make unintentionally massive purchases.\n",
    "3. While most households have access to technology, some families underutilize it because they aren't aware of free resources for online learning or skill development.  \n",
    "4. Students, despite access to devices, sometimes face challenges with digital literacy, such as effectively using advanced software for school projects.  \n",
    "5. One way I can bridge this gap is through two clubs I am a part of! The first is Del Norte CS Tutoring club that helps students taking CS classes understand better. The other is CyberCEO, which focuses on providing cyber education to elementary school students and senior citizens."
   ]
  }
 ],
 "metadata": {
  "language_info": {
   "name": "python"
  }
 },
 "nbformat": 4,
 "nbformat_minor": 2
}
