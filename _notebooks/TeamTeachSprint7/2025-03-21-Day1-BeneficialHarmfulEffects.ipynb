{
 "cells": [
  {
   "cell_type": "raw",
   "metadata": {
    "vscode": {
     "languageId": "raw"
    }
   },
   "source": [
    "---\n",
    "layout: page\n",
    "title: Yash Parkih - Lesson Day 1 - Beneficial Harmful Effects\n",
    "course: \"compsci\"\n",
    "week: 28\n",
    "type: hacks\n",
    "---"
   ]
  },
  {
   "cell_type": "markdown",
   "metadata": {},
   "source": [
    "## Popcorn Hack 1\n",
    "\n",
    "*What do you think is one beneficial effect?*\n",
    "One beneficial effect is being able to connect with others through the usage of the internet.\n",
    "\n",
    "*What do you think is one harmful effect?*\n",
    "One harmful effect is that the usage of the internet, specifically with social media for example, is that it can be addictive."
   ]
  },
  {
   "cell_type": "markdown",
   "metadata": {},
   "source": [
    "## Popcorn Hack 2\n",
    "\n",
    "*What do you think is the most beneficial out of these (or pick your own)? Why?*\n",
    "\n",
    "I think that the storage of information is the most beneficial because it has changed the way that people are able to learn and make people smarter and more educated overall.\n",
    "\n",
    "*Also, brainstorm additional beneficial effects of technology.*\n",
    "\n",
    "- Made it easier for people to communicate with others, especially those who are far away.\n",
    "- Made it easier for people to access information and learn new things.\n",
    "- Made it easier for people to work from home and be more flexible with their work schedules.\n",
    "- Made it easier for people to stay connected with others, especially during the pandemic.\n",
    "- Made it easier for people to access entertainment, such as movies and music, from the comfort of their own homes."
   ]
  },
  {
   "cell_type": "markdown",
   "metadata": {
    "vscode": {
     "languageId": "raw"
    }
   },
   "source": [
    "## Popcorn Hack 3\n",
    "\n",
    "*Pick a dilema from above. Do you think it’s more beneficial or harmful?*\n",
    "\n",
    "I think that the dilemma with gene editing is more beneficial than harmful because it has the potential to cure diseases and improve the quality of life for many people.\n",
    "\n",
    "However, it is also harmful because it can be used to create designer babies and could lead to a lot of ethical issues.\n",
    "\n",
    "But the main reason that I believe it is more beneficial than harmful is how it will effectively reduce one of the biggest problems in the world, which is disease and make people's lives better which is a good trade off for the potential ethical issues that could arise."
   ]
  },
  {
   "cell_type": "markdown",
   "metadata": {},
   "source": [
    "## Homework Hack 1\n",
    "\n",
    "*Based on the brainstorming you did during the lesson, pick a beneficial or harmful effect and in 5 sentences fully explain why you think this topic is beneficial of harmful?*\n",
    "\n",
    "One of the more unique benefits of technology that I talked about earlier was how people can access entertainment, such as movies and music, from the comfort of their own homes. \n",
    "\n",
    "1. It allows people to relax and unwind after a long day of work or school without having to leave their homes.\n",
    "2. It also allows people to save money on things like movie tickets and gas by not having to go out to see a movie or concert.\n",
    "3. It also allows people to watch or listen to whatever they want, whenever they want, without having to wait for it to come on TV or the radio.\n",
    "4. It also allows people to discover new movies and music that they may not have been exposed to otherwise.\n",
    "5. It also allows people to connect with others who have similar interests and share their favorite movies and music with them."
   ]
  },
  {
   "cell_type": "markdown",
   "metadata": {},
   "source": [
    "## Homework Hack 2\n",
    "\n",
    "*Please do the MCQ linked below*\n",
    "[MCQ](https://forms.gle/https://docs.google.com/forms/d/1SpVtSOcqA8u8bJ5wMMC1HOuXXTDtn8AO5on9j-O0UOE/viewform)\n",
    "\n",
    "Completed MCQ with correct answers:\n",
    "\n",
    "![Image](https://github.com/user-attachments/assets/e98dc84f-fb47-4154-87da-879d1a3aa218)"
   ]
  }
 ],
 "metadata": {
  "language_info": {
   "name": "python"
  }
 },
 "nbformat": 4,
 "nbformat_minor": 2
}
