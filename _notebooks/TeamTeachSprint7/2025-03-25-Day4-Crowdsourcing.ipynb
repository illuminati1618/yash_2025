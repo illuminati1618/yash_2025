{
 "cells": [
  {
   "cell_type": "raw",
   "metadata": {
    "vscode": {
     "languageId": "raw"
    }
   },
   "source": [
    "---\n",
    "layout: page\n",
    "title: Yash Parikh - Lesson Day 4 - Crowdsourcing\n",
    "course: \"compsci\"\n",
    "week: 28\n",
    "type: hacks\n",
    "---"
   ]
  },
  {
   "cell_type": "markdown",
   "metadata": {},
   "source": [
    "## Popcorn Hack 1\n",
    "\n",
    "*What are the different types of crowdsourcing, and how do they contribute to innovation? Provide a brief description of each type.*\n",
    "\n",
    "1. Crowd Funding - The crowd funds a project or venture // Kickstarter or Indiegogo.\n",
    "2. Crowd Creation - The crowd creates a product or service // Wikipedia.\n",
    "3. Crowd Voting - The crowd votes on a product or service // Reddit.\n",
    "4. Crowd Wisdom - The crowd provides feedback or ideas // Quora."
   ]
  },
  {
   "cell_type": "markdown",
   "metadata": {},
   "source": [
    "## Popcorn Hack 2\n",
    "\n",
    "*What is data crowdsourcing, and how does it contribute to open-source development? Provide 3+ examples of public datasets that have been created through crowdsourcing efforts.*\n",
    "\n",
    "Data crowdsourcing is simply where people contribute data to a project.\n",
    "Some examples are:\n",
    "1. OpenStreetMap - a map of the world that anyone can edit.\n",
    "2. Wikipedia - an encyclopedia that anyone can edit.\n",
    "3. Galaxy Zoo - a project where people classify galaxies."
   ]
  },
  {
   "cell_type": "markdown",
   "metadata": {},
   "source": [
    "## Popcorn Hack 3\n",
    "\n",
    "*How does distributed computing contribute to innovations through crowdsourcing? Provide 3+ examples of successful projects that have utilized distributed computing and crowdsourcing to obtain data.*\n",
    "\n",
    "Distributed computing is where many computers work together to solve a problem.\n",
    "Some examples are:\n",
    "1. SETI@home - a project that analyzes radio signals from space.\n",
    "2. Rosetta@home - a project that simulates protein folding.\n",
    "3. Folding@home - a project that simulates protein folding."
   ]
  },
  {
   "cell_type": "markdown",
   "metadata": {},
   "source": [
    "## Homework Hack"
   ]
  },
  {
   "cell_type": "markdown",
   "metadata": {},
   "source": [
    "Complete the MCQ and FRQ\n",
    "\n",
    "[https://github.com/user-attachments/assets/6713d169-e7ad-4cbc-959f-6e2f5def7377](https://github.com/user-attachments/assets/6713d169-e7ad-4cbc-959f-6e2f5def7377)"
   ]
  }
 ],
 "metadata": {
  "language_info": {
   "name": "python"
  }
 },
 "nbformat": 4,
 "nbformat_minor": 2
}
