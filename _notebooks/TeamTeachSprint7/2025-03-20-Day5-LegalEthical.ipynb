{
 "cells": [
  {
   "cell_type": "raw",
   "metadata": {
    "vscode": {
     "languageId": "raw"
    }
   },
   "source": [
    "---\n",
    "layout: page\n",
    "title: Yash Parikh - Lesson Day 5 - Legal and Ethical Concerns\n",
    "course: \"compsci\"\n",
    "week: 28\n",
    "type: hacks\n",
    "---"
   ]
  },
  {
   "cell_type": "markdown",
   "metadata": {},
   "source": [
    "## Popcorn Hack 1\n",
    "\n",
    "*What is a legal concern that arises when sharing/using code?*\n",
    "One legal concern when sharing/using code is copyright infringement. This is because code is intellectual property so using it without permission would be highly illegal.\n",
    "\n",
    "*What is an ethical concern that arises when sharing/using code?*\n",
    "An ethical concern that arises when sharing/using code is trying to make money off of someone else's work. This is unethical because the original creater likely wouldn't receive any compensation or benefits which would be both unethical and illegal."
   ]
  },
  {
   "cell_type": "markdown",
   "metadata": {},
   "source": [
    "## Popcorn Hack 2\n",
    "\n",
    "*You're building an open-source lyric guessing app. You want it to spread fast, but also don’t want big corporations to steal your work (without giving you credit!). Which license do you pick?*\n",
    "\n",
    "Technically all of the licenses would be fine in this case. However, I'd use the Apache 2.0 license. The reason for that is because the patent clause would protect me from this big company stealing my work. Also, the Apache 2.0 license is very permissive and allows for commercial use, so I would be able to make money off of my work if I wanted to. The other licenses are either too restrictive or don't have the patent clause which would leave me vulnerable to being sued or having my app stolen by a big company."
   ]
  },
  {
   "cell_type": "markdown",
   "metadata": {},
   "source": [
    "## Homework Hack"
   ]
  },
  {
   "cell_type": "markdown",
   "metadata": {},
   "source": [
    "*1. Create a new repo and add a lisence, Or add a new lisence/change a lisence of your repo. Then explain why you chose that lisence!*\n",
    "\n",
    "Here is my repository with the license:\n",
    "[Repository](https://github.com/illuminati1618/testinganewlicense)\n",
    "\n",
    "I used the MIT License because I haven't tried this one out before. I like the idea of being able to use the code for commercial purposes and not having to worry about it being too restrictive. The only thing I don't like about it is that it doesn't have a patent clause, so if someone were to steal my code, I wouldn't be able to sue them for it.  \n",
    "![Image](https://github.com/user-attachments/assets/1492385b-3a68-43ba-b964-20a0058f01bf)"
   ]
  }
 ],
 "metadata": {
  "language_info": {
   "name": "python"
  }
 },
 "nbformat": 4,
 "nbformat_minor": 2
}
