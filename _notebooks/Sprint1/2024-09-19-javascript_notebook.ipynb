{
 "cells": [
  {
   "cell_type": "raw",
   "metadata": {
    "vscode": {
     "languageId": "raw"
    }
   },
   "source": [
    "---\n",
    "toc: false\n",
    "layout: post\n",
    "type: tangibles\n",
    "courses: { compsci: {week: 0} }\n",
    "title: Rock Paper Scissors - Javascript Notebook\n",
    "description: A simple Javascript notebook made with Neil!\n",
    "comments: true\n",
    "---"
   ]
  },
  {
   "cell_type": "code",
   "execution_count": null,
   "metadata": {
    "vscode": {
     "languageId": "javascript"
    }
   },
   "outputs": [],
   "source": [
    "const choices = [\"rock\", \"paper\", \"scissors\"];\n",
    "function playRound(playerChoice) {\n",
    "    const computerChoice = choices[Math.floor(Math.random() * 3)];\n",
    "    console.log(`You: ${playerChoice}, Computer: ${computerChoice}`);\n",
    "    if (playerChoice === computerChoice) return \"It's a tie!\";\n",
    "    if (\n",
    "        (playerChoice === \"rock\" && computerChoice === \"scissors\") ||\n",
    "        (playerChoice === \"paper\" && computerChoice === \"rock\") ||\n",
    "        (playerChoice === \"scissors\" && computerChoice === \"paper\")\n",
    "    ) return \"You win!\";\n",
    "    return \"You lose!\";\n",
    "}"
   ]
  }
 ],
 "metadata": {
  "language_info": {
   "name": "python"
  }
 },
 "nbformat": 4,
 "nbformat_minor": 2
}
