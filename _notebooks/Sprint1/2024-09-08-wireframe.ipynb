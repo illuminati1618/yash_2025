{
 "cells": [
  {
   "cell_type": "raw",
   "metadata": {
    "vscode": {
     "languageId": "raw"
    }
   },
   "source": [
    "---\n",
    "toc: true\n",
    "layout: post\n",
    "type: hacks\n",
    "courses: { compsci: {week: 0} }\n",
    "title: Playing with an HTML wireframe\n",
    "description: An implementation of a given html wireframe in a website!\n",
    "comments: true\n",
    "---"
   ]
  },
  {
   "cell_type": "markdown",
   "metadata": {},
   "source": [
    "<div>\n",
    "    <p> This is a paragraph. It is made by a p tag.\n",
    "        <button style=\"background-color: #1A6CC8 !important;\" >If you click this nothing will happen! This button is made by a button tag</button>\n",
    "    </p>\n",
    "</div>\n",
    "<div>\n",
    "    <p>This is paragraph number 2. Learn HTML <a href=\"https://www.w3schools.com/html/\">here</a> and CSS <a href=\"https://www.w3schools.com/css/\">here</a> In case you missed it, the a tags are the links!</p>\n",
    "</div>\n",
    "\n",
    "This HTML wireframe was based off of:\n",
    "\n",
    "<img src=\"{{site.baseurl}}/images/wireframe.png\">"
   ]
  }
 ],
 "metadata": {
  "language_info": {
   "name": "python"
  }
 },
 "nbformat": 4,
 "nbformat_minor": 2
}
