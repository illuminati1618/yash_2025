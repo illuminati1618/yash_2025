{
 "cells": [
  {
   "cell_type": "raw",
   "metadata": {
    "vscode": {
     "languageId": "raw"
    }
   },
   "source": [
    "---\n",
    "layout: post\n",
    "title: Random\n",
    "type: issues \n",
    "comments: true\n",
    "permalink: /csp/random/\n",
    "---"
   ]
  },
  {
   "cell_type": "markdown",
   "metadata": {},
   "source": [
    "# Random Number Generation\n",
    "\n",
    "Random number generation is a fundamental concept in programming where we create unpredictable values for:\n",
    "- Simulations\n",
    "- Games\n",
    "- Security applications\n",
    "- Testing\n",
    "\n",
    "[INSERT DIAGRAM: Random number generator concept showing input parameters and random output]"
   ]
  },
  {
   "cell_type": "markdown",
   "metadata": {},
   "source": [
    "## Key Concepts\n",
    "\n",
    "- **RANDOM(a, b)**: Generates a random integer from a to b inclusive\n",
    "- Each result has equal probability\n",
    "- Each execution produces potentially different results\n",
    "- Random numbers enable simulations of real-world events"
   ]
  },
  {
   "cell_type": "markdown",
   "metadata": {},
   "source": [
    "## Popcorn Hack 1: Real-World Applications\n",
    "\n",
    "**Question**: Name two real-world applications where random number generation is essential and briefly explain why."
   ]
  },
  {
   "cell_type": "code",
   "execution_count": 1,
   "metadata": {},
   "outputs": [
    {
     "name": "stdout",
     "output_type": "stream",
     "text": [
      "Random number between 1-10: 6\n",
      "Random number between 0-1: 0\n",
      "Random number between 1-6: 2\n"
     ]
    }
   ],
   "source": [
    "import random\n",
    "\n",
    "# Generate random integer between a and b inclusive\n",
    "def random_int(a, b):\n",
    "    return random.randint(a, b)\n",
    "\n",
    "# Examples\n",
    "print(f\"Random number between 1-10: {random_int(1, 10)}\")\n",
    "print(f\"Random number between 0-1: {random_int(0, 1)}\")  # Coin flip\n",
    "print(f\"Random number between 1-6: {random_int(1, 6)}\")  # Die roll"
   ]
  },
  {
   "cell_type": "markdown",
   "metadata": {},
   "source": [
    "## Common Applications\n",
    "\n",
    "- **Games**: Dice rolls, card shuffling, enemy behavior\n",
    "- **Simulations**: Weather models, traffic patterns, economic scenarios\n",
    "- **Security**: Encryption keys, password generation\n",
    "- **Statistical sampling**: Selecting random subsets of data"
   ]
  },
  {
   "cell_type": "code",
   "execution_count": null,
   "metadata": {},
   "outputs": [],
   "source": [
    "# Simulating a coin flip\n",
    "def coin_flip():\n",
    "    # Generate random number: 1 for heads, 2 for tails\n",
    "    flip = random.randint(1, 2)\n",
    "    \n",
    "    if flip == 1:\n",
    "        return \"Heads\"\n",
    "    else:\n",
    "        return \"Tails\"\n",
    "\n",
    "# Test with 10 flips\n",
    "for i in range(10):\n",
    "    print(f\"Flip {i+1}: {coin_flip()}\")"
   ]
  },
  {
   "cell_type": "code",
   "execution_count": null,
   "metadata": {},
   "outputs": [],
   "source": [
    "# Simulating weighted random choices\n",
    "def color_spinner():\n",
    "    # Generate random number from 1-8\n",
    "    spin = random.randint(1, 8)\n",
    "    \n",
    "    if spin <= 3:  # 3/8 chance (37.5%)\n",
    "        return \"Green\"\n",
    "    elif spin <= 5:  # 2/8 chance (25%)\n",
    "        return \"Blue\"\n",
    "    elif spin == 6:\n",
    "        return \"Red\"\n",
    "    elif spin == 7:\n",
    "        return \"Orange\"\n",
    "    else:  # spin == 8\n",
    "        return \"Purple\"\n",
    "\n",
    "# Test with 20 spins\n",
    "results = {}\n",
    "for i in range(20):\n",
    "    result = color_spinner()\n",
    "    results[result] = results.get(result, 0) + 1\n",
    "\n",
    "print(\"Results of 20 spins:\")\n",
    "for color, count in results.items():\n",
    "    print(f\"{color}: {count} times ({count/20*100:.1f}%)\")"
   ]
  },
  {
   "cell_type": "markdown",
   "metadata": {},
   "source": [
    "# Popcorn Hack 2: Magic 8-Ball\n",
    "\n",
    "Task: Complete the magic_8_ball function that:\n",
    "1. Returns \"Yes\" roughly 50% of the time\n",
    "2. Returns \"No\" roughly 25% of the time\n",
    "3. Returns \"Ask again later\" roughly 25% of the time\n",
    "\n",
    "Hint: Use the RANDOM function we learned about"
   ]
  },
  {
   "cell_type": "code",
   "execution_count": null,
   "metadata": {},
   "outputs": [],
   "source": [
    "import random\n",
    "\n",
    "def magic_8_ball():\n",
    "    # TODO: Generate a random number and use it to return one of\n",
    "    # the three possible answers with the correct probabilities\n",
    "    # Your code here\n",
    "    \n",
    "    pass  # Replace this with your code\n",
    "\n",
    "# Test your function\n",
    "for i in range(10):\n",
    "    print(f\"Magic 8-Ball says: {magic_8_ball()}\")"
   ]
  },
  {
   "cell_type": "markdown",
   "metadata": {},
   "source": [
    "## Homework Hack: Create a Simple Dice Game\n",
    "\n",
    "Create a dice game with the following features:\n",
    "1. Player rolls two dice\n",
    "2. If the sum is 7 or 11, player wins\n",
    "3. If the sum is 2, 3, or 12, player loses\n",
    "4. If the sum is any other number, that becomes the \"point\"\n",
    "5. Player continues to roll until they either roll the point again (win) or roll a 7 (lose)\n",
    "6. Track win/loss statistics\n",
    "\n",
    "**Template Code:**"
   ]
  },
  {
   "cell_type": "code",
   "execution_count": null,
   "metadata": {},
   "outputs": [],
   "source": [
    "import random\n",
    "\n",
    "def roll_dice():\n",
    "    \"\"\"Roll two dice and return their values and sum.\"\"\"\n",
    "    # TODO: Implement this function\n",
    "    pass\n",
    "\n",
    "def play_dice_game():\n",
    "    \"\"\"\n",
    "    Play one round of the dice game.\n",
    "    Returns True if player wins, False if player loses.\n",
    "    \"\"\"\n",
    "    # TODO: Implement the game logic described above\n",
    "    pass\n",
    "\n",
    "def main():\n",
    "    \"\"\"Main game function with game loop and statistics.\"\"\"\n",
    "    wins = 0\n",
    "    losses = 0\n",
    "    \n",
    "    # TODO: Create a game loop that:\n",
    "    # 1. Asks the player if they want to play\n",
    "    # 2. If yes, play a round and update statistics\n",
    "    # 3. If no, show final statistics and end the game\n",
    "    \n",
    "    pass\n",
    "\n",
    "if __name__ == \"__main__\":\n",
    "    print(\"Welcome to the Dice Game!\")\n",
    "    main()"
   ]
  }
 ],
 "metadata": {
  "kernelspec": {
   "display_name": "venv",
   "language": "python",
   "name": "python3"
  },
  "language_info": {
   "codemirror_mode": {
    "name": "ipython",
    "version": 3
   },
   "file_extension": ".py",
   "mimetype": "text/x-python",
   "name": "python",
   "nbconvert_exporter": "python",
   "pygments_lexer": "ipython3",
   "version": "3.12.3"
  }
 },
 "nbformat": 4,
 "nbformat_minor": 2
}
