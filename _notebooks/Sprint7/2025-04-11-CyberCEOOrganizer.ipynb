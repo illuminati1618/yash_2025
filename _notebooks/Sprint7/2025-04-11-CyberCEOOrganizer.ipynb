{
 "cells": [
  {
   "cell_type": "raw",
   "id": "efbb14ab",
   "metadata": {
    "vscode": {
     "languageId": "raw"
    }
   },
   "source": [
    "---\n",
    "layout: page\n",
    "title: Yash Parikh - CyberCEO Event\n",
    "course: \"compsci\"\n",
    "week: 28\n",
    "type: hacks\n",
    "---"
   ]
  },
  {
   "cell_type": "markdown",
   "id": "dbb7861d",
   "metadata": {},
   "source": [
    "Hello! I was part of the organizing team for CyberCEO."
   ]
  }
 ],
 "metadata": {
  "language_info": {
   "name": "python"
  }
 },
 "nbformat": 4,
 "nbformat_minor": 5
}
