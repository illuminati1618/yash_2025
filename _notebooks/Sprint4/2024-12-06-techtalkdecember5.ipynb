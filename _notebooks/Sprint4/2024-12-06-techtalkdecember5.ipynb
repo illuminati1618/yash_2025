{
 "cells": [
  {
   "cell_type": "markdown",
   "metadata": {},
   "source": []
  },
  {
   "cell_type": "markdown",
   "metadata": {},
   "source": [
    "## Tech Talk Notes:\n",
    "\n",
    "- Focus on backend, not frontend\n",
    "- Front matter in YAML drives GitHub pages\n",
    "- Understand how protocols and web systems work\n",
    "- Not all tech jobs are coding\n",
    "  - But understanding the digital system is more important\n",
    "- TECHHHHHHH"
   ]
  }
 ],
 "metadata": {
  "language_info": {
   "name": "python"
  }
 },
 "nbformat": 4,
 "nbformat_minor": 2
}
