{
 "cells": [
  {
   "cell_type": "markdown",
   "metadata": {},
   "source": [
    "---\n",
    "layout: page\n",
    "title: Tech Talk Notes\n",
    "course: \"compsci\"\n",
    "week: 14\n",
    "type: plans\n",
    "---"
   ]
  },
  {
   "cell_type": "markdown",
   "metadata": {},
   "source": [
    "## Tech Talk Notes:\n",
    "\n",
    "- Focus on backend, not frontend\n",
    "- Front matter in YAML drives GitHub pages\n",
    "- Understand how protocols and web systems work\n",
    "- Not all tech jobs are coding\n",
    "  - But understanding the digital system is more important\n",
    "- TECHHHHHHH"
   ]
  }
 ],
 "metadata": {
  "language_info": {
   "name": "python"
  }
 },
 "nbformat": 4,
 "nbformat_minor": 2
}
