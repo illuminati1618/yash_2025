{
 "cells": [
  {
   "cell_type": "raw",
   "metadata": {
    "vscode": {
     "languageId": "raw"
    }
   },
   "source": [
    "---\n",
    "toc: false\n",
    "layout: post\n",
    "type: tangibles\n",
    "courses: { compsci: {week: 1} }\n",
    "title: 3.10 Popcorn and Homework Hacks\n",
    "description: Yash's Submission for 3.10 Homework\n",
    "comments: true\n",
    "---"
   ]
  },
  {
   "cell_type": "markdown",
   "metadata": {},
   "source": [
    "## Popcorn Hack 1"
   ]
  },
  {
   "cell_type": "code",
   "execution_count": 1,
   "metadata": {},
   "outputs": [
    {
     "name": "stdout",
     "output_type": "stream",
     "text": [
      "Added 55.0 to the list.\n",
      "Added 77.0 to the list.\n",
      "The sum of the numbers is: 132.0\n",
      "Removed 77.0 from the list.\n",
      "Added 22.0 to the list.\n",
      "Added 33.0 to the list.\n",
      "Added 44.0 to the list.\n",
      "The sum of the numbers is: 154.0\n",
      "Removed 44.0 from the list.\n",
      "The sum of the numbers is: 110.0\n",
      "Invalid input. Please enter a number, 'sum', 'pop', or 'quit'.\n"
     ]
    }
   ],
   "source": [
    "numbers = []\n",
    "\n",
    "while True:\n",
    "    user_input = input(\"Enter a [number] to add to the list, [sum], [pop], or [quit]: \")\n",
    "\n",
    "    if user_input.lower() == 'quit':\n",
    "        break\n",
    "    elif user_input.lower() == 'sum':\n",
    "        print(f\"The sum of the numbers is: {sum(numbers)}\")\n",
    "    elif user_input.lower() == 'pop':\n",
    "        if numbers:\n",
    "            removed_value = numbers.pop()\n",
    "            print(f\"Removed {removed_value} from the list.\")\n",
    "        else:\n",
    "            print(\"The list is empty.\")\n",
    "    else:\n",
    "        try:\n",
    "            number = float(user_input)\n",
    "            numbers.append(number)\n",
    "            print(f\"Added {number} to the list.\")\n",
    "        except ValueError: #BONUS, I ADDED THIS SO IF THE DATA ENTERED IS NOT A NUMBER, IT WILL PRINT AN ERROR MESSAGE\n",
    "            print(\"Invalid input. Please enter a number, 'sum', 'pop', or 'quit'.\")\n"
   ]
  },
  {
   "cell_type": "markdown",
   "metadata": {},
   "source": [
    "## Popcorn Hack #2"
   ]
  },
  {
   "cell_type": "markdown",
   "metadata": {},
   "source": [
    "**PSEUDOCODE:**\n",
    "\n",
    "INITIALIZE an empty list called 'numbers'\n",
    "FOR each number from 1 to 100:\n",
    "    ADD that number to 'numbers\n",
    "INITIALIZE a variable called 'even_sum', starting value is 0\n",
    "FOR each number in 'numbers':\n",
    "    IF the number is even:\n",
    "        ADD the number to even_sum\n",
    "PRINT the value of even sum"
   ]
  },
  {
   "cell_type": "code",
   "execution_count": 2,
   "metadata": {},
   "outputs": [
    {
     "name": "stdout",
     "output_type": "stream",
     "text": [
      "The sum of all even numbers from 1 to 100 is: 2550\n"
     ]
    }
   ],
   "source": [
    "numbers = []\n",
    "\n",
    "for i in range(1, 101):\n",
    "    numbers.append(i)\n",
    "\n",
    "even_sum = 0\n",
    "\n",
    "for number in numbers:\n",
    "    if number % 2 == 0:\n",
    "        even_sum += number\n",
    "\n",
    "print(f\"The sum of all even numbers from 1 to 100 is: {even_sum}\")"
   ]
  },
  {
   "cell_type": "markdown",
   "metadata": {},
   "source": [
    "## Popcorn Hack 3 (combining random meals and user input)"
   ]
  },
  {
   "cell_type": "code",
   "execution_count": 7,
   "metadata": {},
   "outputs": [
    {
     "name": "stdout",
     "output_type": "stream",
     "text": [
      "Enter your main meal ideas (type 'done' to finish):\n",
      "Enter your side meal ideas (type 'done' to finish):\n",
      "\n",
      "Here's a random meal suggestion for you:\n",
      "paneer with onion rings\n"
     ]
    }
   ],
   "source": [
    "import random\n",
    "\n",
    "def gather_meals():\n",
    "    main_dishes = []\n",
    "    sides = []\n",
    "    \n",
    "    print(\"Enter your main meal ideas (type 'done' to finish):\")\n",
    "    while True:\n",
    "        main = input(\"Main dish:\")\n",
    "        if main == 'done':\n",
    "            break\n",
    "        main_dishes.append(main)\n",
    "\n",
    "    print(\"Enter your side meal ideas (type 'done' to finish):\")\n",
    "    while True:\n",
    "        side = input(\"Side dish:\")\n",
    "        if side == 'done':\n",
    "            break\n",
    "        sides.append(side)\n",
    "    \n",
    "    return main_dishes, sides\n",
    "\n",
    "def suggest_random_meal(main_dishes, sides):\n",
    "    if not main_dishes or not sides:\n",
    "        print(\"Please enter at least one main dish and one side.\")\n",
    "        return\n",
    "    \n",
    "    meal_combinations = [f\"{main} with {side}\" for main in main_dishes for side in sides]\n",
    "    \n",
    "    print(\"\\nHere's a random meal suggestion for you:\")\n",
    "    print(random.choice(meal_combinations))\n",
    "\n",
    "if __name__ == \"__main__\":\n",
    "    mains, sides = gather_meals()\n",
    "\n",
    "    suggest_random_meal(mains, sides)"
   ]
  },
  {
   "cell_type": "markdown",
   "metadata": {},
   "source": [
    "## List Operations"
   ]
  },
  {
   "cell_type": "markdown",
   "metadata": {},
   "source": [
    "### Homework Hack "
   ]
  },
  {
   "cell_type": "code",
   "execution_count": 3,
   "metadata": {},
   "outputs": [
    {
     "name": "stdout",
     "output_type": "stream",
     "text": [
      "Initial list: [10, 'apple', 3.14, 'banana', 42, 'orange', True]\n",
      "Removed item: banana\n",
      "Updated list: [10, 'apple', 3.14, 42, 'orange', True]\n"
     ]
    }
   ],
   "source": [
    "data_list = [10, 'apple', 3.14, 'banana', 42, 'orange', True]\n",
    "\n",
    "print(\"Initial list:\", data_list)\n",
    "\n",
    "index = int(input(\"Enter an index number to remove the corresponding item from the list: \"))\n",
    "\n",
    "#BONUS: I ADDED A BOOLEAN TO CHECK IF THE INDEX ENTERED IS VALID\n",
    "if 0 <= index < len(data_list):\n",
    "    removed_item = data_list.pop(index)\n",
    "    print(f\"Removed item: {removed_item}\")\n",
    "else:\n",
    "    print(\"Invalid index. Please enter a number between 0 and\", len(data_list)-1)\n",
    "\n",
    "print(\"Updated list:\", data_list)"
   ]
  },
  {
   "cell_type": "markdown",
   "metadata": {},
   "source": [
    "## Pseudocode"
   ]
  },
  {
   "cell_type": "markdown",
   "metadata": {},
   "source": [
    "### Homework Hack 1 (for both Pseudocode and List Input)"
   ]
  },
  {
   "cell_type": "markdown",
   "metadata": {},
   "source": [
    "**PSEUDOCODE:**\n",
    "INITIALIZE a list called 'questions', empty\n",
    "APPEND question 1 to 'question'\n",
    "APPEND question 2 to 'question'\n",
    "FOR each question in 'questions':\n",
    "    PRINT question\n",
    "    INPUT from user is answer\n",
    "    If answer is yes:\n",
    "        print: yes to question (question number)\n",
    "    ELSE\n",
    "        print: no to question (question number)"
   ]
  },
  {
   "cell_type": "code",
   "execution_count": 4,
   "metadata": {},
   "outputs": [
    {
     "name": "stdout",
     "output_type": "stream",
     "text": [
      "You answered yes to the question: Do you like soccer? (yes/no)\n",
      "You answered no to the question: Do you have a pet? (yes/no)\n"
     ]
    }
   ],
   "source": [
    "questions = []\n",
    "\n",
    "questions.append(\"Do you like soccer? (yes/no)\")\n",
    "questions.append(\"Do you have a pet? (yes/no)\")\n",
    "\n",
    "for question in questions:\n",
    "    answer = input(question)\n",
    "    \n",
    "    if answer == 'yes':\n",
    "        print(f\"You answered yes to the question: {question}\")\n",
    "    else:\n",
    "        print(f\"You answered no to the question: {question}\")"
   ]
  },
  {
   "cell_type": "markdown",
   "metadata": {},
   "source": [
    "### Homework Hack 2"
   ]
  },
  {
   "cell_type": "markdown",
   "metadata": {},
   "source": [
    "**PSEUDOCODE:**\n",
    "INITIALIZE empty list called numbers\n",
    "FOR each number from 1 to 30\n",
    "    ADD number to 'numbers'\n",
    "\n",
    "INITIALIZE 'evensum' and 'oddsum'\n",
    "    IF number is even\n",
    "        ADD number to 'evensum'\n",
    "    ELSE\n",
    "        ADD number to 'oddsum'\n",
    "\n",
    "PRINT 'evensum'\n",
    "PRINT 'oddsum'"
   ]
  },
  {
   "cell_type": "code",
   "execution_count": 5,
   "metadata": {},
   "outputs": [
    {
     "name": "stdout",
     "output_type": "stream",
     "text": [
      "The sum of all even numbers is: 240\n",
      "The sum of all odd numbers is: 225\n"
     ]
    }
   ],
   "source": [
    "numbers = list(range(1, 31))\n",
    "\n",
    "even_sum = 0\n",
    "odd_sum = 0\n",
    "\n",
    "for number in numbers:\n",
    "    if number % 2 == 0:\n",
    "        even_sum += number \n",
    "    else:\n",
    "        odd_sum += number   \n",
    "\n",
    "print(f\"The sum of all even numbers is: {even_sum}\")\n",
    "print(f\"The sum of all odd numbers is: {odd_sum}\")"
   ]
  },
  {
   "cell_type": "markdown",
   "metadata": {},
   "source": [
    "## List Functions"
   ]
  },
  {
   "cell_type": "markdown",
   "metadata": {},
   "source": [
    "### Homework Hack"
   ]
  },
  {
   "cell_type": "code",
   "execution_count": 6,
   "metadata": {},
   "outputs": [
    {
     "name": "stdout",
     "output_type": "stream",
     "text": [
      "One of my favorite hobbies is: Snowboarding\n",
      "One of my favorite hobbies is: Playing Soccer\n",
      "One of my favorite hobbies is: Music\n",
      "One of my favorite hobbies is: Gaming\n",
      "One of my favorite hobbies is: Photography\n"
     ]
    }
   ],
   "source": [
    "# List of favorite hobbies\n",
    "hobbies = [\"Snowboarding\", \"Playing Soccer\", \"Music\", \"Gaming\", \"Photography\"]\n",
    "\n",
    "# Loop through the hobbies list and print each hobby\n",
    "for hobby in hobbies:\n",
    "    print(f\"One of my favorite hobbies is: {hobby}\")"
   ]
  }
 ],
 "metadata": {
  "kernelspec": {
   "display_name": "venv",
   "language": "python",
   "name": "python3"
  },
  "language_info": {
   "codemirror_mode": {
    "name": "ipython",
    "version": 3
   },
   "file_extension": ".py",
   "mimetype": "text/x-python",
   "name": "python",
   "nbconvert_exporter": "python",
   "pygments_lexer": "ipython3",
   "version": "3.12.3"
  }
 },
 "nbformat": 4,
 "nbformat_minor": 2
}
