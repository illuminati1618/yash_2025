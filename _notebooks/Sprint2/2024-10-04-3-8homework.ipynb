{
 "cells": [
  {
   "cell_type": "raw",
   "metadata": {
    "vscode": {
     "languageId": "raw"
    }
   },
   "source": [
    "---\n",
    "toc: false\n",
    "layout: post\n",
    "type: tangibles\n",
    "courses: { compsci: {week: 1} }\n",
    "title: 3.8 Popcorn and Homework Hacks\n",
    "description: Yash's Submission for 3.8 Homework\n",
    "comments: true\n",
    "---"
   ]
  },
  {
   "cell_type": "markdown",
   "metadata": {},
   "source": [
    "## For Loops"
   ]
  },
  {
   "cell_type": "markdown",
   "metadata": {},
   "source": [
    "### Popcorn Hack 1"
   ]
  },
  {
   "cell_type": "code",
   "execution_count": 2,
   "metadata": {
    "vscode": {
     "languageId": "javascript"
    }
   },
   "outputs": [
    {
     "data": {
      "application/javascript": "for (let i = 10; i > 0; i--) {\n    console.log(i);\n}\n\n// I changed the numbers to count down instead of count up\n",
      "text/plain": [
       "<IPython.core.display.Javascript object>"
      ]
     },
     "metadata": {},
     "output_type": "display_data"
    }
   ],
   "source": [
    "%%js\n",
    "for (let i = 10; i > 0; i--) {\n",
    "    console.log(i);\n",
    "}\n",
    "\n",
    "// I changed the numbers to count down instead of count up"
   ]
  },
  {
   "cell_type": "markdown",
   "metadata": {},
   "source": [
    "### Popcorn Hack 2"
   ]
  },
  {
   "cell_type": "code",
   "execution_count": 5,
   "metadata": {},
   "outputs": [
    {
     "name": "stdout",
     "output_type": "stream",
     "text": [
      "White\n",
      "Blue\n",
      "Black\n"
     ]
    }
   ],
   "source": [
    "colors = ['White', 'Blue', 'Black']\n",
    "\n",
    "for color in colors:\n",
    "    print(color)\n",
    "\n",
    "#I have it to add letters instead "
   ]
  },
  {
   "cell_type": "markdown",
   "metadata": {},
   "source": [
    "### Homework Hack"
   ]
  },
  {
   "cell_type": "markdown",
   "metadata": {},
   "source": [
    "#### Python"
   ]
  },
  {
   "cell_type": "code",
   "execution_count": 8,
   "metadata": {},
   "outputs": [
    {
     "name": "stdout",
     "output_type": "stream",
     "text": [
      "Key: make, Value: Tesla\n",
      "Key: model, Value: Model 3\n",
      "Key: year, Value: 2020\n",
      "Car Value: Tesla\n",
      "Car Value: Model 3\n",
      "Car Value: 2020\n",
      "Car Key: make, Car Value: Tesla\n",
      "Car Key: model, Car Value: Model 3\n",
      "Car Key: year, Car Value: 2020\n"
     ]
    }
   ],
   "source": [
    "# Define a dictionary representing a car\n",
    "car = {'make': 'Tesla', 'model': 'Model 3', 'year': 2020}\n",
    "\n",
    "# Looping through keys\n",
    "for key in car:\n",
    "    print(f'Key: {key}, Value: {car[key]}')\n",
    "\n",
    "# Looping through values\n",
    "for value in car.values():\n",
    "    print(f'Car Value: {value}')\n",
    "\n",
    "# Looping through keys and values\n",
    "for key, value in car.items():\n",
    "    print(f'Car Key: {key}, Car Value: {value}')"
   ]
  },
  {
   "cell_type": "markdown",
   "metadata": {},
   "source": [
    "#### JavaScript"
   ]
  },
  {
   "cell_type": "code",
   "execution_count": 7,
   "metadata": {
    "vscode": {
     "languageId": "javascript"
    }
   },
   "outputs": [
    {
     "data": {
      "application/javascript": "// Define a dictionary representing a phone\nlet phone = {'brand': 'Apple', 'model': 'iPhone 13', 'year': 2021};\n\n// Looping through keys\nfor (let key in phone) {\n    console.log(`Key: ${key}, Value: ${phone[key]}`);\n}\n\n// Looping through values\nObject.values(phone).forEach(value => {\n    console.log(`Phone Value: ${value}`);\n});\n\n// Looping through keys and values\nObject.entries(phone).forEach(([key, value]) => {\n    console.log(`Phone Key: ${key}, Phone Value: ${value}`);\n});\n",
      "text/plain": [
       "<IPython.core.display.Javascript object>"
      ]
     },
     "metadata": {},
     "output_type": "display_data"
    }
   ],
   "source": [
    "%%js\n",
    "// Define a dictionary representing a phone\n",
    "let phone = {'brand': 'Apple', 'model': 'iPhone 13', 'year': 2021};\n",
    "\n",
    "// Looping through keys\n",
    "for (let key in phone) {\n",
    "    console.log(`Key: ${key}, Value: ${phone[key]}`);\n",
    "}\n",
    "\n",
    "// Looping through values\n",
    "Object.values(phone).forEach(value => {\n",
    "    console.log(`Phone Value: ${value}`);\n",
    "});\n",
    "\n",
    "// Looping through keys and values\n",
    "Object.entries(phone).forEach(([key, value]) => {\n",
    "    console.log(`Phone Key: ${key}, Phone Value: ${value}`);\n",
    "});"
   ]
  },
  {
   "cell_type": "markdown",
   "metadata": {},
   "source": [
    "## While and Do-While Loop"
   ]
  },
  {
   "cell_type": "markdown",
   "metadata": {},
   "source": [
    "### Popcorn Hack 1"
   ]
  },
  {
   "cell_type": "code",
   "execution_count": 3,
   "metadata": {},
   "outputs": [
    {
     "name": "stdout",
     "output_type": "stream",
     "text": [
      "1\n",
      "3\n",
      "5\n",
      "7\n",
      "9\n",
      "11\n",
      "13\n",
      "15\n",
      "17\n",
      "19\n"
     ]
    }
   ],
   "source": [
    "number = 1\n",
    "\n",
    "while number <= 20:\n",
    "    if number % 2 == 1:\n",
    "        print(number)\n",
    "    number += 2\n",
    "\n",
    "#Printing odd numbers"
   ]
  },
  {
   "cell_type": "markdown",
   "metadata": {},
   "source": [
    "### Popcorn Hack 2"
   ]
  },
  {
   "cell_type": "code",
   "execution_count": 10,
   "metadata": {},
   "outputs": [
    {
     "name": "stdout",
     "output_type": "stream",
     "text": [
      "You rolled onto: side 2\n",
      "You rolled onto: side 6\n",
      "You rolled onto: side 1\n",
      "Rolled onto side 1!\n"
     ]
    }
   ],
   "source": [
    "import random\n",
    "\n",
    "roll = \"\"\n",
    "\n",
    "while roll != \"side 1\":\n",
    "    roll = random.choice([\"side 1\", \"side 2\", \"side 3\", \"side 4\", \"side 5\", \"side 6\"])\n",
    "    print(f\"You rolled onto: {roll}\")\n",
    "\n",
    "print(\"Rolled onto side 1!\")\n",
    "\n",
    "#Rolling a dice until it lands on side 1, I made this myself"
   ]
  },
  {
   "cell_type": "markdown",
   "metadata": {},
   "source": [
    "### Homework Hack 1"
   ]
  },
  {
   "cell_type": "code",
   "execution_count": 11,
   "metadata": {},
   "outputs": [
    {
     "name": "stdout",
     "output_type": "stream",
     "text": [
      "1\n",
      "2\n",
      "Fizz\n",
      "4\n",
      "Buzz\n",
      "Fizz\n",
      "Boom\n",
      "8\n",
      "Fizz\n",
      "Buzz\n",
      "11\n",
      "Fizz\n",
      "13\n",
      "Boom\n",
      "FizzBuzz\n",
      "16\n",
      "17\n",
      "Fizz\n",
      "19\n",
      "Buzz\n",
      "Fizz\n",
      "22\n",
      "23\n",
      "Fizz\n",
      "Buzz\n",
      "26\n",
      "Fizz\n",
      "Boom\n",
      "29\n",
      "FizzBuzz\n",
      "31\n",
      "32\n",
      "Fizz\n",
      "34\n",
      "Buzz\n",
      "Fizz\n",
      "37\n",
      "38\n",
      "Fizz\n",
      "Buzz\n",
      "41\n",
      "Fizz\n",
      "43\n",
      "44\n",
      "FizzBuzz\n",
      "46\n",
      "47\n",
      "Fizz\n",
      "Boom\n",
      "Buzz\n",
      "Buzz\n",
      "51\n",
      "Fizz\n",
      "53\n",
      "54\n",
      "Buzz\n",
      "Fizz\n",
      "57\n",
      "58\n",
      "59\n",
      "FizzBuzz\n",
      "61\n",
      "62\n",
      "Boom\n",
      "Fizz\n",
      "Buzz\n",
      "66\n",
      "67\n",
      "Fizz\n",
      "69\n",
      "Buzz\n",
      "71\n",
      "Fizz\n",
      "73\n",
      "74\n",
      "Buzz\n",
      "Fizz\n",
      "Boom\n",
      "78\n",
      "79\n",
      "FizzBuzz\n",
      "81\n",
      "82\n",
      "83\n",
      "Fizz\n",
      "Buzz\n",
      "86\n",
      "87\n",
      "Fizz\n",
      "89\n",
      "Buzz\n",
      "Boom\n",
      "Fizz\n",
      "93\n",
      "94\n",
      "Buzz\n",
      "Fizz\n",
      "97\n",
      "Boom\n",
      "99\n",
      "FizzBuzz\n"
     ]
    }
   ],
   "source": [
    "# FizzBuzz with a Twist (Multiples of 7 print 'Boom')\n",
    "i = 1\n",
    "\n",
    "while i <= 50:\n",
    "    if i % 3 == 0 and i % 5 == 0:\n",
    "        print(\"FizzBuzz\")\n",
    "    elif i % 3 == 0:\n",
    "        print(\"Fizz\")\n",
    "    elif i % 5 == 0:\n",
    "        print(\"Buzz\")\n",
    "    elif i % 7 == 0:\n",
    "        print(\"Boom\")\n",
    "    else:\n",
    "        print(i)\n",
    "    i += 1\n",
    "\n",
    "# Challenge: Modified conditions, range from 50 to 100, multiples of 4 instead of 3\n",
    "i = 50\n",
    "\n",
    "while i <= 100:\n",
    "    if i % 4 == 0 and i % 5 == 0:\n",
    "        print(\"FizzBuzz\")\n",
    "    elif i % 4 == 0:\n",
    "        print(\"Fizz\")\n",
    "    elif i % 5 == 0:\n",
    "        print(\"Buzz\")\n",
    "    elif i % 7 == 0:\n",
    "        print(\"Boom\")\n",
    "    else:\n",
    "        print(i)\n",
    "    i += 1"
   ]
  },
  {
   "cell_type": "markdown",
   "metadata": {},
   "source": [
    "### Homework Hack 2"
   ]
  },
  {
   "cell_type": "code",
   "execution_count": null,
   "metadata": {},
   "outputs": [],
   "source": [
    "# User Authentication System with 3 attempts and password reset functionality\n",
    "\n",
    "correct_username = \"Yash\"\n",
    "correct_password = \"password\"\n",
    "security_question = \"What is your favorite color?\"\n",
    "correct_answer = \"Blue\"\n",
    "\n",
    "attempts = 3\n",
    "\n",
    "while attempts > 0:\n",
    "    username = input(\"Enter your username: \")\n",
    "    password = input(\"Enter your password: \")\n",
    "\n",
    "    if username == correct_username and password == correct_password:\n",
    "        print(\"Login successful!\")\n",
    "        break\n",
    "    else:\n",
    "        attempts -= 1\n",
    "        print(f\"Incorrect credentials. {attempts} attempts remaining.\")\n",
    "\n",
    "    if attempts == 0:\n",
    "        print(\"Account locked. You've run out of attempts.\")\n",
    "        reset = input(\"Would you like to reset your password? (yes/no): \")\n",
    "        if reset == \"yes\":\n",
    "            answer = input(security_question)\n",
    "            if answer == correct_answer:\n",
    "                new_password = input(\"Enter your new password: \")\n",
    "                correct_password = new_password\n",
    "                attempts = 3\n",
    "                print(\"Password is reset, try logging in again!\")\n",
    "            else:\n",
    "                print(\"Security question is wrong, you can't reset.\")\n",
    "        else:\n",
    "            print(\"Goodbye!\")\n"
   ]
  },
  {
   "cell_type": "markdown",
   "metadata": {},
   "source": [
    "## Index Loops"
   ]
  },
  {
   "cell_type": "markdown",
   "metadata": {},
   "source": [
    "### Popcorn Hack 1 - Python"
   ]
  },
  {
   "cell_type": "code",
   "execution_count": 3,
   "metadata": {},
   "outputs": [
    {
     "name": "stdout",
     "output_type": "stream",
     "text": [
      "Your To-Do List:\n",
      "1. Study for bio\n",
      "2. study for chem\n",
      "3. study for math\n"
     ]
    }
   ],
   "source": [
    "# List of tasks\n",
    "tasks = [\n",
    "    \"Study for bio\",\n",
    "    \"Play soccer\",\n",
    "    \"Finish math homework\",\n",
    "]\n",
    "\n",
    "# Function to display tasks with indices\n",
    "def display_tasks():\n",
    "    print(\"Your To-Do List:\")\n",
    "    for index in range(len(tasks)):\n",
    "        print(f\"{index + 1}. {tasks[index]}\")  # Display task with its index\n",
    "\n",
    "# Call the function\n",
    "display_tasks()"
   ]
  },
  {
   "cell_type": "code",
   "execution_count": 12,
   "metadata": {},
   "outputs": [
    {
     "data": {
      "application/javascript": "// List of tasks\nconst tasks = [\n    \"Study for bio\",\n    \"Play soccer\",\n    \"Finish math homework\",\n];\n\n// Function to display tasks with indices\nfunction displayTasks() {\n    console.log(\"Your To-Do List:\");\n    for (let index = 0; index < tasks.length; index++) {\n        console.log(`${index + 1}. ${tasks[index]}`); // Display task with its index\n    }\n}\n\n// Call the function\ndisplayTasks();\n",
      "text/plain": [
       "<IPython.core.display.Javascript object>"
      ]
     },
     "metadata": {},
     "output_type": "display_data"
    }
   ],
   "source": [
    "%%javascript\n",
    "// List of tasks\n",
    "const tasks = [\n",
    "    \"Study for bio\",\n",
    "    \"Play soccer\",\n",
    "    \"Finish math homework\",\n",
    "];\n",
    "\n",
    "// Function to display tasks with indices\n",
    "function displayTasks() {\n",
    "    console.log(\"Your To-Do List:\");\n",
    "    for (let index = 0; index < tasks.length; index++) {\n",
    "        console.log(`${index + 1}. ${tasks[index]}`); // Display task with its index\n",
    "    }\n",
    "}\n",
    "\n",
    "// Call the function\n",
    "displayTasks();\n"
   ]
  },
  {
   "cell_type": "markdown",
   "metadata": {},
   "source": [
    "## Continue and Break"
   ]
  },
  {
   "cell_type": "markdown",
   "metadata": {},
   "source": [
    "### Popcorn Hack 1"
   ]
  },
  {
   "cell_type": "code",
   "execution_count": 16,
   "metadata": {
    "vscode": {
     "languageId": "javascript"
    }
   },
   "outputs": [
    {
     "data": {
      "application/javascript": "// Custom break logic: stop inner loop when i equals 3 and outer loop when i equals 7\nfor (let outer = 0; outer < 10; outer++) {\n  console.log(`Outer loop iteration: ${outer}`);\n\n  for (let inner = 0; inner < 10; inner++) {\n    if (inner === 3) {\n        console.log(\"Inner loop break\");\n        break\n    }\n    console.log(`Inner loop iteration: ${inner}`);\n  }\n\n  if (outer === 7) {\n      console.log(\"Outer loop break\");\n      break\n  }\n}\n",
      "text/plain": [
       "<IPython.core.display.Javascript object>"
      ]
     },
     "metadata": {},
     "output_type": "display_data"
    }
   ],
   "source": [
    "%%javascript\n",
    "// Custom break logic: stop inner loop when i equals 3 and outer loop when i equals 7\n",
    "for (let outer = 0; outer < 10; outer++) {\n",
    "  console.log(`Outer loop iteration: ${outer}`);\n",
    "\n",
    "  for (let inner = 0; inner < 10; inner++) {\n",
    "    if (inner === 3) {\n",
    "        console.log(\"Inner loop break\");\n",
    "        break\n",
    "    }\n",
    "    console.log(`Inner loop iteration: ${inner}`);\n",
    "  }\n",
    "\n",
    "  if (outer === 7) {\n",
    "      console.log(\"Outer loop break\");\n",
    "      break\n",
    "  }\n",
    "}"
   ]
  },
  {
   "cell_type": "markdown",
   "metadata": {},
   "source": [
    "### Popcorn Hack 2"
   ]
  },
  {
   "cell_type": "code",
   "execution_count": 17,
   "metadata": {},
   "outputs": [
    {
     "name": "stdout",
     "output_type": "stream",
     "text": [
      "Number: 0\n",
      "Number: 1\n",
      "Number: 2\n",
      "Number: 3\n",
      "Number: 4\n",
      "Skipping number 5!\n",
      "Number: 6\n",
      "Number: 7\n",
      "Number: 8\n",
      "Number: 9\n"
     ]
    }
   ],
   "source": [
    "# Simple continue loop in Python\n",
    "for i in range(10):\n",
    "    if i == 5:\n",
    "        print(\"Skipping number 5!\")\n",
    "        continue\n",
    "    print(f\"Number: {i}\")"
   ]
  },
  {
   "cell_type": "markdown",
   "metadata": {},
   "source": [
    "### Homework Hack 1"
   ]
  },
  {
   "cell_type": "code",
   "execution_count": 20,
   "metadata": {
    "vscode": {
     "languageId": "javascript"
    }
   },
   "outputs": [
    {
     "data": {
      "application/javascript": "for (let i = 0; i < 20; i += 2) {\n    if (i === 10) {\n        console.log(\"Breaking the loop at 10!\");\n        break;\n    }\n    console.log(i);\n}\n",
      "text/plain": [
       "<IPython.core.display.Javascript object>"
      ]
     },
     "metadata": {},
     "output_type": "display_data"
    }
   ],
   "source": [
    "%%javascript\n",
    "for (let i = 0; i < 20; i += 2) {\n",
    "    if (i === 10) {\n",
    "        console.log(\"Breaking the loop at 10!\");\n",
    "        break;\n",
    "    }\n",
    "    console.log(i);\n",
    "}"
   ]
  },
  {
   "cell_type": "markdown",
   "metadata": {},
   "source": [
    "### Homework Hack 2"
   ]
  },
  {
   "cell_type": "code",
   "execution_count": 22,
   "metadata": {},
   "outputs": [
    {
     "name": "stdout",
     "output_type": "stream",
     "text": [
      "This number is 0\n",
      "This number is 1\n",
      "This number is 2\n",
      "This number is 3\n",
      "This number is 4\n",
      "This number is 6\n",
      "This number is 7\n",
      "This number is 8\n",
      "This number is 9\n"
     ]
    }
   ],
   "source": [
    "for i in range(10):\n",
    "    if i == 5:\n",
    "        continue\n",
    "    print(f\"This number is {i}\")\n",
    "#as you can see number 5 is skipped because it isn't printed"
   ]
  }
 ],
 "metadata": {
  "kernelspec": {
   "display_name": "venv",
   "language": "python",
   "name": "python3"
  },
  "language_info": {
   "codemirror_mode": {
    "name": "ipython",
    "version": 3
   },
   "file_extension": ".py",
   "mimetype": "text/x-python",
   "name": "python",
   "nbconvert_exporter": "python",
   "pygments_lexer": "ipython3",
   "version": "3.12.3"
  }
 },
 "nbformat": 4,
 "nbformat_minor": 2
}
